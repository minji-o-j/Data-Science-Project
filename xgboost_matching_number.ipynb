{
 "cells": [
  {
   "attachments": {},
   "cell_type": "markdown",
   "metadata": {},
   "source": [
    "## xgboost모델 돌리고 개수 맞추기까지 적혀있는 코드입니다."
   ]
  },
  {
   "cell_type": "code",
   "execution_count": 1,
   "metadata": {},
   "outputs": [
    {
     "name": "stderr",
     "output_type": "stream",
     "text": [
      "/home/ubuntu/anaconda3/envs/py38mj/lib/python3.8/site-packages/xgboost/compat.py:36: FutureWarning: pandas.Int64Index is deprecated and will be removed from pandas in a future version. Use pandas.Index with the appropriate dtype instead.\n",
      "  from pandas import MultiIndex, Int64Index\n"
     ]
    }
   ],
   "source": [
    "import pandas as pd\n",
    "import numpy as np\n",
    "import matplotlib.pyplot as plt\n",
    "import seaborn as sns\n",
    "import pickle\n",
    "import warnings\n",
    "\n",
    "from xgboost import XGBRegressor\n",
    "from sklearn.metrics import mean_absolute_error as mae\n",
    "from sklearn.metrics import mean_squared_error as mse\n",
    "\n",
    "from sklearn.pipeline import make_pipeline\n",
    "from sklearn.preprocessing import RobustScaler\n",
    "from sklearn.impute import SimpleImputer\n",
    "\n",
    "from sklearn.model_selection import RandomizedSearchCV\n",
    "from sklearn.model_selection import GridSearchCV\n",
    "from sklearn.model_selection import TimeSeriesSplit\n",
    "\n",
    "from sklearn import preprocessing\n",
    "\n",
    "\n",
    "from tqdm import tqdm"
   ]
  },
  {
   "cell_type": "code",
   "execution_count": 2,
   "metadata": {},
   "outputs": [],
   "source": [
    "industry_data_1_add0 = pd.read_csv('./dataset_new/industry_data_add0.csv')"
   ]
  },
  {
   "cell_type": "code",
   "execution_count": 3,
   "metadata": {},
   "outputs": [],
   "source": [
    "# 제출 형식에 맞게 정렬\n",
    "industry_data_1_add0.sort_values(['Datetime','Store','Item'],inplace=True)\n",
    "industry_data_1_add0.reset_index(drop=True,inplace=True)\n",
    "#industry_data_1_add0"
   ]
  },
  {
   "cell_type": "code",
   "execution_count": 4,
   "metadata": {},
   "outputs": [],
   "source": [
    "# Label encoding\n",
    "\n",
    "label = preprocessing.LabelEncoder()\n",
    "industry_data_encoded = pd.DataFrame()\n",
    "\n",
    "industry_data_1_col = ['Product Type', 'Item', 'Region Level 1', 'Region Level 2', 'Urban/Rural']\n",
    "for i in industry_data_1_add0.columns:\n",
    "    if i in industry_data_1_col:\n",
    "        industry_data_encoded[i] = label.fit_transform(industry_data_1_add0[i])\n",
    "    else:\n",
    "        industry_data_encoded[i] = industry_data_1_add0[i]"
   ]
  },
  {
   "cell_type": "code",
   "execution_count": 5,
   "metadata": {},
   "outputs": [
    {
     "data": {
      "text/html": [
       "<div>\n",
       "<style scoped>\n",
       "    .dataframe tbody tr th:only-of-type {\n",
       "        vertical-align: middle;\n",
       "    }\n",
       "\n",
       "    .dataframe tbody tr th {\n",
       "        vertical-align: top;\n",
       "    }\n",
       "\n",
       "    .dataframe thead th {\n",
       "        text-align: right;\n",
       "    }\n",
       "</style>\n",
       "<table border=\"1\" class=\"dataframe\">\n",
       "  <thead>\n",
       "    <tr style=\"text-align: right;\">\n",
       "      <th></th>\n",
       "      <th>Industry Size</th>\n",
       "      <th>Store</th>\n",
       "      <th>Product Type</th>\n",
       "      <th>Item</th>\n",
       "      <th>Year</th>\n",
       "      <th>Month</th>\n",
       "      <th>Datetime</th>\n",
       "      <th>Region Level 1</th>\n",
       "      <th>Region Level 2</th>\n",
       "      <th>Urban/Rural</th>\n",
       "      <th>Owner</th>\n",
       "      <th>quarter</th>\n",
       "    </tr>\n",
       "  </thead>\n",
       "  <tbody>\n",
       "    <tr>\n",
       "      <th>0</th>\n",
       "      <td>0</td>\n",
       "      <td>1</td>\n",
       "      <td>2</td>\n",
       "      <td>0</td>\n",
       "      <td>2015</td>\n",
       "      <td>1</td>\n",
       "      <td>2015-01-01</td>\n",
       "      <td>31</td>\n",
       "      <td>9</td>\n",
       "      <td>1</td>\n",
       "      <td>1</td>\n",
       "      <td>1</td>\n",
       "    </tr>\n",
       "    <tr>\n",
       "      <th>1</th>\n",
       "      <td>0</td>\n",
       "      <td>1</td>\n",
       "      <td>2</td>\n",
       "      <td>1</td>\n",
       "      <td>2015</td>\n",
       "      <td>1</td>\n",
       "      <td>2015-01-01</td>\n",
       "      <td>31</td>\n",
       "      <td>9</td>\n",
       "      <td>1</td>\n",
       "      <td>1</td>\n",
       "      <td>1</td>\n",
       "    </tr>\n",
       "    <tr>\n",
       "      <th>2</th>\n",
       "      <td>0</td>\n",
       "      <td>1</td>\n",
       "      <td>1</td>\n",
       "      <td>2</td>\n",
       "      <td>2015</td>\n",
       "      <td>1</td>\n",
       "      <td>2015-01-01</td>\n",
       "      <td>31</td>\n",
       "      <td>9</td>\n",
       "      <td>1</td>\n",
       "      <td>1</td>\n",
       "      <td>1</td>\n",
       "    </tr>\n",
       "    <tr>\n",
       "      <th>3</th>\n",
       "      <td>0</td>\n",
       "      <td>1</td>\n",
       "      <td>0</td>\n",
       "      <td>3</td>\n",
       "      <td>2015</td>\n",
       "      <td>1</td>\n",
       "      <td>2015-01-01</td>\n",
       "      <td>31</td>\n",
       "      <td>9</td>\n",
       "      <td>1</td>\n",
       "      <td>1</td>\n",
       "      <td>1</td>\n",
       "    </tr>\n",
       "    <tr>\n",
       "      <th>4</th>\n",
       "      <td>0</td>\n",
       "      <td>1</td>\n",
       "      <td>1</td>\n",
       "      <td>4</td>\n",
       "      <td>2015</td>\n",
       "      <td>1</td>\n",
       "      <td>2015-01-01</td>\n",
       "      <td>31</td>\n",
       "      <td>9</td>\n",
       "      <td>1</td>\n",
       "      <td>1</td>\n",
       "      <td>1</td>\n",
       "    </tr>\n",
       "  </tbody>\n",
       "</table>\n",
       "</div>"
      ],
      "text/plain": [
       "   Industry Size  Store  Product Type  Item  Year  Month    Datetime  \\\n",
       "0              0      1             2     0  2015      1  2015-01-01   \n",
       "1              0      1             2     1  2015      1  2015-01-01   \n",
       "2              0      1             1     2  2015      1  2015-01-01   \n",
       "3              0      1             0     3  2015      1  2015-01-01   \n",
       "4              0      1             1     4  2015      1  2015-01-01   \n",
       "\n",
       "   Region Level 1  Region Level 2  Urban/Rural  Owner  quarter  \n",
       "0              31               9            1      1        1  \n",
       "1              31               9            1      1        1  \n",
       "2              31               9            1      1        1  \n",
       "3              31               9            1      1        1  \n",
       "4              31               9            1      1        1  "
      ]
     },
     "execution_count": 5,
     "metadata": {},
     "output_type": "execute_result"
    }
   ],
   "source": [
    "industry_data_encoded.head()"
   ]
  },
  {
   "cell_type": "code",
   "execution_count": 6,
   "metadata": {},
   "outputs": [],
   "source": [
    "# 예측할 구간 선택\n",
    "set_dt_list = ['2022-04-01','2022-05-01','2022-06-01']"
   ]
  },
  {
   "cell_type": "code",
   "execution_count": 7,
   "metadata": {},
   "outputs": [
    {
     "name": "stdout",
     "output_type": "stream",
     "text": [
      "(1005372, 7) (1005372,)\n",
      "(34668, 7) (34668,)\n",
      "mae:   1.1522441444559826\n",
      "rmse:  1.7096735745150142\n",
      "(1016928, 7) (1016928,)\n",
      "(23112, 7) (23112,)\n",
      "mae:   0.11673589477327795\n",
      "rmse:  0.341919530064906\n",
      "(1028484, 7) (1028484,)\n",
      "(11556, 7) (11556,)\n",
      "mae:   0.12287988923502942\n",
      "rmse:  0.3537369117011909\n"
     ]
    }
   ],
   "source": [
    "for set_dt in set_dt_list:\n",
    "   train_1 = industry_data_encoded[industry_data_encoded['Datetime'] < set_dt]\n",
    "   val_1 = industry_data_encoded[(industry_data_encoded['Datetime'] >= set_dt)]\n",
    "\n",
    "   # Feature와 Target 분리\n",
    "   target = 'Industry Size'\n",
    "   features = train_1.drop([target,\"Datetime\",'quarter','Region Level 1', 'Region Level 2'], axis=1).columns\n",
    "\n",
    "   X_train = train_1[features]\n",
    "   y_train = train_1[target]\n",
    "   X_val = val_1[features]\n",
    "   y_val = val_1[target]\n",
    "\n",
    "   print(X_train.shape, y_train.shape)\n",
    "   print(X_val.shape, y_val.shape)\n",
    "\n",
    "   # 파이프라인 생성 및 학습\n",
    "   xgb_basic = make_pipeline(\n",
    "      SimpleImputer(),\n",
    "      RobustScaler(),\n",
    "      XGBRegressor(random_state=1,\n",
    "                  n_jobs=-1,\n",
    "                  objective='reg:squarederror',\n",
    "                  max_depth=5, \n",
    "                  learning_rate=0.2, \n",
    "                     )\n",
    "                  )\n",
    "\n",
    "   xgb_basic.fit(X_train, y_train);\n",
    "\n",
    "   # 예측\n",
    "   y_pred = xgb_basic.predict(X_val)\n",
    "\n",
    "   # prediction값 반올림\n",
    "   y_pred_r =  [round(x) if round(x) >=0 else 0 for x in y_pred]\n",
    "\n",
    "   # 결과 확인\n",
    "\n",
    "   print('mae:  ', mae(y_val, y_pred_r))\n",
    "   print('rmse: ', np.sqrt(mse(y_val, y_pred_r)))\n",
    "   \n",
    "\n",
    "   # RMSE는 MAE에 비해 직관성은 떨어지지만 Robust한 성격(극단적이지 않은 성격)에서 강점을 보인다.\n",
    "\n",
    "   newlist = list(industry_data_encoded[industry_data_encoded['Datetime']<set_dt]['Industry Size'])+y_pred_r\n",
    "   industry_data_encoded['Industry Size'] = newlist\n",
    "\n",
    "   '''\n",
    "   (1005372, 7) (1005372,)\n",
    "(34668, 7) (34668,)\n",
    "mae:   1.1522441444559826\n",
    "rmse:  1.7096735745150142\n",
    "(1016928, 7) (1016928,)\n",
    "(23112, 7) (23112,)\n",
    "mae:   0.11673589477327795\n",
    "rmse:  0.341919530064906\n",
    "(1028484, 7) (1028484,)\n",
    "(11556, 7) (11556,)\n",
    "mae:   0.12287988923502942\n",
    "rmse:  0.3537369117011909\n",
    "   '''"
   ]
  },
  {
   "cell_type": "code",
   "execution_count": 8,
   "metadata": {},
   "outputs": [
    {
     "data": {
      "image/png": "[encoded data removed]",
      "text/plain": [
       "<Figure size 1440x288 with 1 Axes>"
      ]
     },
     "metadata": {
      "needs_background": "light"
     },
     "output_type": "display_data"
    }
   ],
   "source": [
    "plt.figure(figsize=(20, 4))\n",
    "\n",
    "plt.plot(industry_data_encoded[industry_data_encoded['Datetime'] >= set_dt_list[0]]['Industry Size'].reset_index(drop=True), label='Actual',)\n",
    "#plt.plot(y_pred_r, label='Predicted')\n",
    "\n",
    "\n",
    "\n",
    "plt.legend()\n",
    "plt.show();"
   ]
  },
  {
   "cell_type": "code",
   "execution_count": 9,
   "metadata": {},
   "outputs": [
    {
     "data": {
      "text/plain": [
       "'2022-04-01'"
      ]
     },
     "execution_count": 9,
     "metadata": {},
     "output_type": "execute_result"
    }
   ],
   "source": [
    "set_dt_list[0]"
   ]
  },
  {
   "cell_type": "code",
   "execution_count": 10,
   "metadata": {},
   "outputs": [],
   "source": [
    "result = pd.DataFrame([])\n",
    "result['predicted'] = industry_data_encoded[industry_data_encoded['Datetime'] >= set_dt_list[0]]['Industry Size'].reset_index(drop=True)"
   ]
  },
  {
   "cell_type": "code",
   "execution_count": 645,
   "metadata": {},
   "outputs": [],
   "source": [
    "# 4+5+6월\n",
    "sum_456 = result[:11556].copy()\n",
    "for i in range(len(sum_456)):\n",
    "    m_5 = result.loc[i+11556]['predicted']\n",
    "    m_6 = result.loc[i+11556+11556]['predicted']\n",
    "    sum_456.loc[i,'predicted'] = sum_456.loc[i,'predicted'] + m_5 + m_6\n",
    "    "
   ]
  },
  {
   "cell_type": "code",
   "execution_count": 646,
   "metadata": {},
   "outputs": [
    {
     "data": {
      "text/html": [
       "<div>\n",
       "<style scoped>\n",
       "    .dataframe tbody tr th:only-of-type {\n",
       "        vertical-align: middle;\n",
       "    }\n",
       "\n",
       "    .dataframe tbody tr th {\n",
       "        vertical-align: top;\n",
       "    }\n",
       "\n",
       "    .dataframe thead th {\n",
       "        text-align: right;\n",
       "    }\n",
       "</style>\n",
       "<table border=\"1\" class=\"dataframe\">\n",
       "  <thead>\n",
       "    <tr style=\"text-align: right;\">\n",
       "      <th></th>\n",
       "      <th>predicted</th>\n",
       "    </tr>\n",
       "  </thead>\n",
       "  <tbody>\n",
       "    <tr>\n",
       "      <th>0</th>\n",
       "      <td>0</td>\n",
       "    </tr>\n",
       "    <tr>\n",
       "      <th>1</th>\n",
       "      <td>0</td>\n",
       "    </tr>\n",
       "    <tr>\n",
       "      <th>2</th>\n",
       "      <td>3</td>\n",
       "    </tr>\n",
       "    <tr>\n",
       "      <th>3</th>\n",
       "      <td>7</td>\n",
       "    </tr>\n",
       "    <tr>\n",
       "      <th>4</th>\n",
       "      <td>3</td>\n",
       "    </tr>\n",
       "    <tr>\n",
       "      <th>...</th>\n",
       "      <td>...</td>\n",
       "    </tr>\n",
       "    <tr>\n",
       "      <th>11551</th>\n",
       "      <td>9</td>\n",
       "    </tr>\n",
       "    <tr>\n",
       "      <th>11552</th>\n",
       "      <td>3</td>\n",
       "    </tr>\n",
       "    <tr>\n",
       "      <th>11553</th>\n",
       "      <td>8</td>\n",
       "    </tr>\n",
       "    <tr>\n",
       "      <th>11554</th>\n",
       "      <td>4</td>\n",
       "    </tr>\n",
       "    <tr>\n",
       "      <th>11555</th>\n",
       "      <td>0</td>\n",
       "    </tr>\n",
       "  </tbody>\n",
       "</table>\n",
       "<p>11556 rows × 1 columns</p>\n",
       "</div>"
      ],
      "text/plain": [
       "       predicted\n",
       "0              0\n",
       "1              0\n",
       "2              3\n",
       "3              7\n",
       "4              3\n",
       "...          ...\n",
       "11551          9\n",
       "11552          3\n",
       "11553          8\n",
       "11554          4\n",
       "11555          0\n",
       "\n",
       "[11556 rows x 1 columns]"
      ]
     },
     "execution_count": 646,
     "metadata": {},
     "output_type": "execute_result"
    }
   ],
   "source": [
    "sum_456"
   ]
  },
  {
   "cell_type": "code",
   "execution_count": 647,
   "metadata": {},
   "outputs": [
    {
     "data": {
      "text/plain": [
       "39946"
      ]
     },
     "execution_count": 647,
     "metadata": {},
     "output_type": "execute_result"
    }
   ],
   "source": [
    "sum_456['predicted'].sum()"
   ]
  },
  {
   "cell_type": "code",
   "execution_count": 800,
   "metadata": {},
   "outputs": [],
   "source": [
    "zerofile = pd.read_csv(f\"example_allocation_result_file00.csv\")"
   ]
  },
  {
   "cell_type": "code",
   "execution_count": 801,
   "metadata": {},
   "outputs": [],
   "source": [
    "zerofile['Allocation'] = sum_456['predicted']"
   ]
  },
  {
   "cell_type": "code",
   "execution_count": 802,
   "metadata": {},
   "outputs": [
    {
     "data": {
      "text/html": [
       "<div>\n",
       "<style scoped>\n",
       "    .dataframe tbody tr th:only-of-type {\n",
       "        vertical-align: middle;\n",
       "    }\n",
       "\n",
       "    .dataframe tbody tr th {\n",
       "        vertical-align: top;\n",
       "    }\n",
       "\n",
       "    .dataframe thead th {\n",
       "        text-align: right;\n",
       "    }\n",
       "</style>\n",
       "<table border=\"1\" class=\"dataframe\">\n",
       "  <thead>\n",
       "    <tr style=\"text-align: right;\">\n",
       "      <th></th>\n",
       "      <th>Store</th>\n",
       "      <th>Item</th>\n",
       "      <th>Allocation</th>\n",
       "    </tr>\n",
       "  </thead>\n",
       "  <tbody>\n",
       "    <tr>\n",
       "      <th>0</th>\n",
       "      <td>1</td>\n",
       "      <td>Bracket</td>\n",
       "      <td>0</td>\n",
       "    </tr>\n",
       "    <tr>\n",
       "      <th>1</th>\n",
       "      <td>1</td>\n",
       "      <td>Brush</td>\n",
       "      <td>0</td>\n",
       "    </tr>\n",
       "    <tr>\n",
       "      <th>2</th>\n",
       "      <td>1</td>\n",
       "      <td>Cereal</td>\n",
       "      <td>3</td>\n",
       "    </tr>\n",
       "    <tr>\n",
       "      <th>3</th>\n",
       "      <td>1</td>\n",
       "      <td>Ear Buds</td>\n",
       "      <td>7</td>\n",
       "    </tr>\n",
       "    <tr>\n",
       "      <th>4</th>\n",
       "      <td>1</td>\n",
       "      <td>Eggs</td>\n",
       "      <td>3</td>\n",
       "    </tr>\n",
       "    <tr>\n",
       "      <th>...</th>\n",
       "      <td>...</td>\n",
       "      <td>...</td>\n",
       "      <td>...</td>\n",
       "    </tr>\n",
       "    <tr>\n",
       "      <th>11551</th>\n",
       "      <td>642</td>\n",
       "      <td>Phone Charger</td>\n",
       "      <td>9</td>\n",
       "    </tr>\n",
       "    <tr>\n",
       "      <th>11552</th>\n",
       "      <td>642</td>\n",
       "      <td>Power Cord</td>\n",
       "      <td>3</td>\n",
       "    </tr>\n",
       "    <tr>\n",
       "      <th>11553</th>\n",
       "      <td>642</td>\n",
       "      <td>Shrimp</td>\n",
       "      <td>8</td>\n",
       "    </tr>\n",
       "    <tr>\n",
       "      <th>11554</th>\n",
       "      <td>642</td>\n",
       "      <td>Steak</td>\n",
       "      <td>4</td>\n",
       "    </tr>\n",
       "    <tr>\n",
       "      <th>11555</th>\n",
       "      <td>642</td>\n",
       "      <td>Tape</td>\n",
       "      <td>0</td>\n",
       "    </tr>\n",
       "  </tbody>\n",
       "</table>\n",
       "<p>11556 rows × 3 columns</p>\n",
       "</div>"
      ],
      "text/plain": [
       "       Store           Item  Allocation\n",
       "0          1        Bracket           0\n",
       "1          1          Brush           0\n",
       "2          1         Cereal           3\n",
       "3          1       Ear Buds           7\n",
       "4          1           Eggs           3\n",
       "...      ...            ...         ...\n",
       "11551    642  Phone Charger           9\n",
       "11552    642     Power Cord           3\n",
       "11553    642         Shrimp           8\n",
       "11554    642          Steak           4\n",
       "11555    642           Tape           0\n",
       "\n",
       "[11556 rows x 3 columns]"
      ]
     },
     "execution_count": 802,
     "metadata": {},
     "output_type": "execute_result"
    }
   ],
   "source": [
    "zerofile"
   ]
  },
  {
   "cell_type": "code",
   "execution_count": 803,
   "metadata": {},
   "outputs": [
    {
     "data": {
      "text/plain": [
       "39946"
      ]
     },
     "execution_count": 803,
     "metadata": {},
     "output_type": "execute_result"
    }
   ],
   "source": [
    "zerofile['Allocation'].sum()"
   ]
  },
  {
   "cell_type": "code",
   "execution_count": 804,
   "metadata": {},
   "outputs": [
    {
     "data": {
      "text/plain": [
       "37"
      ]
     },
     "execution_count": 804,
     "metadata": {},
     "output_type": "execute_result"
    }
   ],
   "source": [
    "zerofile['Allocation'].max()"
   ]
  },
  {
   "cell_type": "code",
   "execution_count": 807,
   "metadata": {},
   "outputs": [],
   "source": [
    "check1 = []\n",
    "divided = []\n",
    "for i in range(len(zerofile)):\n",
    "    now_num = zerofile.loc[i]['Allocation']\n",
    "\n",
    "\n",
    "    # 0으로 만들 값 체크\n",
    "    #zerolist = ['Milk','Tape','Nails']#,'Eggs','Cereal']#,\"Brush\",\"Bracket\"]\n",
    "    zerolist = ['Nails','Milk','Tape','Bracket','Eggs']#, 'Brush','Glue']#,'Power Cord','Noodles']#,'Ear Buds'] # 가격순\n",
    "    clist = ['Milk','Tape','Nails','Eggs','Cereal']#,\"Brush\",\"Bracket\",]\n",
    "\n",
    "    if zerofile.loc[i]['Item'] in zerolist:\n",
    "        divided.append(0)\n",
    "        continue # 아래 실행 x\n",
    "    \n",
    "    #clist\n",
    "    if zerofile.loc[i]['Item'] in clist:\n",
    "        if now_num>30:\n",
    "            divided.append(round(now_num/3))\n",
    "        elif now_num > 20:\n",
    "            divided.append(round(now_num/4))\n",
    "        elif now_num > 10:\n",
    "            divided.append(round(now_num/5))\n",
    "        elif now_num > 5:\n",
    "            divided.append(round(now_num/6))\n",
    "            \n",
    "        else:\n",
    "            divided.append(0)\n",
    "        continue\n",
    "\n",
    "    # 1보다 큰지 체크\n",
    "    if now_num>=1:\n",
    "        check1.append(1)\n",
    "    else:\n",
    "        check1.append(0)\n",
    "\n",
    "\n",
    "\n",
    "    # 값 체크\n",
    "    if now_num>30:\n",
    "        divided.append(round(now_num/2))\n",
    "    elif now_num > 20:\n",
    "        divided.append(round(now_num/2.3))\n",
    "    elif now_num > 10:\n",
    "        divided.append(round(now_num/2.7))\n",
    "    elif now_num > 5:\n",
    "        divided.append(round(now_num/4.05))\n",
    "\n",
    "    elif now_num>=1:\n",
    "        divided.append(1)\n",
    "    else:\n",
    "        divided.append(0)\n"
   ]
  },
  {
   "cell_type": "code",
   "execution_count": 808,
   "metadata": {},
   "outputs": [
    {
     "data": {
      "text/plain": [
       "9834"
      ]
     },
     "execution_count": 808,
     "metadata": {},
     "output_type": "execute_result"
    }
   ],
   "source": [
    "sum(divided)"
   ]
  },
  {
   "cell_type": "code",
   "execution_count": 795,
   "metadata": {},
   "outputs": [],
   "source": [
    "zerofile['Allocation'] = divided"
   ]
  },
  {
   "cell_type": "code",
   "execution_count": null,
   "metadata": {},
   "outputs": [],
   "source": [
    "zerofile[(zerofile['Item']=='King Crab')&(zerofile['Allocation']>10)]"
   ]
  },
  {
   "cell_type": "code",
   "execution_count": 799,
   "metadata": {},
   "outputs": [],
   "source": [
    "# zerofile.loc[1659,'Allocation']=4\n",
    "# zerofile.loc[10947,'Allocation']=4\n",
    "\n",
    "# #10k\n",
    "zerofile.loc[1663,'Allocation']=8\n",
    "zerofile.loc[10951,'Allocation']=7\n",
    "zerofile.loc[3121,'Allocation']=6\n",
    "zerofile.loc[9871,'Allocation']=5\n",
    "zerofile.loc[655,'Allocation']=5\n",
    "zerofile.loc[3301,'Allocation']=5"
   ]
  },
  {
   "cell_type": "code",
   "execution_count": 785,
   "metadata": {},
   "outputs": [],
   "source": [
    "zeroking = zerofile[(zerofile['Item']=='King Crab')&(zerofile['Allocation']==0)].index"
   ]
  },
  {
   "cell_type": "code",
   "execution_count": 658,
   "metadata": {},
   "outputs": [],
   "source": [
    "for i in zeroking:\n",
    "    zerofile.loc[i,'Allocation']=1"
   ]
  },
  {
   "cell_type": "code",
   "execution_count": 660,
   "metadata": {},
   "outputs": [],
   "source": [
    "onekey = zerofile[(zerofile['Item']=='Keyboard')&(zerofile['Allocation']==1)].index"
   ]
  },
  {
   "cell_type": "code",
   "execution_count": 661,
   "metadata": {},
   "outputs": [
    {
     "data": {
      "text/plain": [
       "Int64Index([  132,   186,   222,   294,   312,   348,   402,   420,   438,\n",
       "              492,\n",
       "            ...\n",
       "            11148, 11166, 11184, 11310, 11328, 11382, 11418, 11472, 11490,\n",
       "            11508],\n",
       "           dtype='int64', length=261)"
      ]
     },
     "execution_count": 661,
     "metadata": {},
     "output_type": "execute_result"
    }
   ],
   "source": [
    "onekey"
   ]
  },
  {
   "cell_type": "code",
   "execution_count": 666,
   "metadata": {},
   "outputs": [],
   "source": [
    "for i in onekey[-143:]:\n",
    "    zerofile.loc[i,'Allocation']=2"
   ]
  },
  {
   "cell_type": "code",
   "execution_count": 667,
   "metadata": {},
   "outputs": [
    {
     "data": {
      "text/plain": [
       "10000"
      ]
     },
     "execution_count": 667,
     "metadata": {},
     "output_type": "execute_result"
    }
   ],
   "source": [
    "zerofile['Allocation'].sum()"
   ]
  },
  {
   "cell_type": "code",
   "execution_count": 668,
   "metadata": {},
   "outputs": [
    {
     "data": {
      "text/html": [
       "<div>\n",
       "<style scoped>\n",
       "    .dataframe tbody tr th:only-of-type {\n",
       "        vertical-align: middle;\n",
       "    }\n",
       "\n",
       "    .dataframe tbody tr th {\n",
       "        vertical-align: top;\n",
       "    }\n",
       "\n",
       "    .dataframe thead th {\n",
       "        text-align: right;\n",
       "    }\n",
       "</style>\n",
       "<table border=\"1\" class=\"dataframe\">\n",
       "  <thead>\n",
       "    <tr style=\"text-align: right;\">\n",
       "      <th></th>\n",
       "      <th>Store</th>\n",
       "      <th>Item</th>\n",
       "      <th>Allocation</th>\n",
       "    </tr>\n",
       "  </thead>\n",
       "  <tbody>\n",
       "    <tr>\n",
       "      <th>0</th>\n",
       "      <td>1</td>\n",
       "      <td>Bracket</td>\n",
       "      <td>0</td>\n",
       "    </tr>\n",
       "    <tr>\n",
       "      <th>1</th>\n",
       "      <td>1</td>\n",
       "      <td>Brush</td>\n",
       "      <td>0</td>\n",
       "    </tr>\n",
       "    <tr>\n",
       "      <th>2</th>\n",
       "      <td>1</td>\n",
       "      <td>Cereal</td>\n",
       "      <td>0</td>\n",
       "    </tr>\n",
       "    <tr>\n",
       "      <th>3</th>\n",
       "      <td>1</td>\n",
       "      <td>Ear Buds</td>\n",
       "      <td>2</td>\n",
       "    </tr>\n",
       "    <tr>\n",
       "      <th>4</th>\n",
       "      <td>1</td>\n",
       "      <td>Eggs</td>\n",
       "      <td>0</td>\n",
       "    </tr>\n",
       "    <tr>\n",
       "      <th>...</th>\n",
       "      <td>...</td>\n",
       "      <td>...</td>\n",
       "      <td>...</td>\n",
       "    </tr>\n",
       "    <tr>\n",
       "      <th>11551</th>\n",
       "      <td>642</td>\n",
       "      <td>Phone Charger</td>\n",
       "      <td>2</td>\n",
       "    </tr>\n",
       "    <tr>\n",
       "      <th>11552</th>\n",
       "      <td>642</td>\n",
       "      <td>Power Cord</td>\n",
       "      <td>1</td>\n",
       "    </tr>\n",
       "    <tr>\n",
       "      <th>11553</th>\n",
       "      <td>642</td>\n",
       "      <td>Shrimp</td>\n",
       "      <td>2</td>\n",
       "    </tr>\n",
       "    <tr>\n",
       "      <th>11554</th>\n",
       "      <td>642</td>\n",
       "      <td>Steak</td>\n",
       "      <td>1</td>\n",
       "    </tr>\n",
       "    <tr>\n",
       "      <th>11555</th>\n",
       "      <td>642</td>\n",
       "      <td>Tape</td>\n",
       "      <td>0</td>\n",
       "    </tr>\n",
       "  </tbody>\n",
       "</table>\n",
       "<p>11556 rows × 3 columns</p>\n",
       "</div>"
      ],
      "text/plain": [
       "       Store           Item  Allocation\n",
       "0          1        Bracket           0\n",
       "1          1          Brush           0\n",
       "2          1         Cereal           0\n",
       "3          1       Ear Buds           2\n",
       "4          1           Eggs           0\n",
       "...      ...            ...         ...\n",
       "11551    642  Phone Charger           2\n",
       "11552    642     Power Cord           1\n",
       "11553    642         Shrimp           2\n",
       "11554    642          Steak           1\n",
       "11555    642           Tape           0\n",
       "\n",
       "[11556 rows x 3 columns]"
      ]
     },
     "execution_count": 668,
     "metadata": {},
     "output_type": "execute_result"
    }
   ],
   "source": [
    "zerofile"
   ]
  },
  {
   "cell_type": "code",
   "execution_count": 783,
   "metadata": {},
   "outputs": [],
   "source": [
    "zerofile.to_csv(f\"example_allocation_result_file_10k_1217_7.csv\", index=False)\n",
    "# industry_data.to_csv(f\"{file_path}Industry_data_add_region.csv\", index=False)\n"
   ]
  },
  {
   "cell_type": "code",
   "execution_count": null,
   "metadata": {},
   "outputs": [],
   "source": []
  }
 ],
 "metadata": {
  "kernelspec": {
   "display_name": "mj",
   "language": "python",
   "name": "py38mj"
  },
  "language_info": {
   "codemirror_mode": {
    "name": "ipython",
    "version": 3
   },
   "file_extension": ".py",
   "mimetype": "text/x-python",
   "name": "python",
   "nbconvert_exporter": "python",
   "pygments_lexer": "ipython3",
   "version": "3.8.12"
  },
  "orig_nbformat": 4,
  "vscode": {
   "interpreter": {
    "hash": "31f2aee4e71d21fbe5cf8b01ff0e069b9275f58929596ceb00d14d90e3e16cd6"
   }
  }
 },
 "nbformat": 4,
 "nbformat_minor": 2
}
