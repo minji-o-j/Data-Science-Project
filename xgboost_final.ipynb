{
 "cells": [
  {
   "attachments": {},
   "cell_type": "markdown",
   "metadata": {},
   "source": [
    "## 0. Import libraries"
   ]
  },
  {
   "cell_type": "code",
   "execution_count": 1,
   "metadata": {},
   "outputs": [
    {
     "name": "stderr",
     "output_type": "stream",
     "text": [
      "/home/ubuntu/anaconda3/envs/py38mj/lib/python3.8/site-packages/xgboost/compat.py:36: FutureWarning: pandas.Int64Index is deprecated and will be removed from pandas in a future version. Use pandas.Index with the appropriate dtype instead.\n",
      "  from pandas import MultiIndex, Int64Index\n"
     ]
    }
   ],
   "source": [
    "import pandas as pd\n",
    "import numpy as np\n",
    "import matplotlib.pyplot as plt\n",
    "import seaborn as sns\n",
    "import pickle\n",
    "import warnings\n",
    "\n",
    "from xgboost import XGBRegressor\n",
    "from sklearn.metrics import mean_absolute_error as mae\n",
    "from sklearn.metrics import mean_squared_error as mse\n",
    "\n",
    "from sklearn.pipeline import make_pipeline\n",
    "from sklearn.preprocessing import RobustScaler\n",
    "from sklearn.impute import SimpleImputer\n",
    "\n",
    "from sklearn.model_selection import RandomizedSearchCV\n",
    "from sklearn.model_selection import GridSearchCV\n",
    "from sklearn.model_selection import TimeSeriesSplit\n",
    "\n",
    "from sklearn import preprocessing\n",
    "\n",
    "\n",
    "from tqdm import tqdm"
   ]
  },
  {
   "attachments": {},
   "cell_type": "markdown",
   "metadata": {},
   "source": [
    "## 1. data preprocessing"
   ]
  },
  {
   "attachments": {},
   "cell_type": "markdown",
   "metadata": {},
   "source": [
    "### 1) open dataset"
   ]
  },
  {
   "cell_type": "code",
   "execution_count": 2,
   "metadata": {},
   "outputs": [],
   "source": [
    "file_path = \"./dataset_new/\""
   ]
  },
  {
   "cell_type": "code",
   "execution_count": 3,
   "metadata": {},
   "outputs": [],
   "source": [
    "# 원본 data 부르기\n",
    "retail_data = pd.read_csv(f\"{file_path}Retail data.csv\")\n",
    "industry_data = pd.read_csv(f\"{file_path}Industry data.csv\")\n",
    "dealer_hierarchies = pd.read_csv(f\"{file_path}Dealer_Hierarchies.csv\")"
   ]
  },
  {
   "attachments": {},
   "cell_type": "markdown",
   "metadata": {},
   "source": [
    "### 2) dataset에 행, 열 통합"
   ]
  },
  {
   "attachments": {},
   "cell_type": "markdown",
   "metadata": {},
   "source": [
    "- retail, industry data에 지역 정보를 추가한다"
   ]
  },
  {
   "cell_type": "code",
   "execution_count": 4,
   "metadata": {},
   "outputs": [
    {
     "name": "stdout",
     "output_type": "stream",
     "text": [
      "<class 'pandas.core.frame.DataFrame'>\n",
      "RangeIndex: 125226 entries, 0 to 125225\n",
      "Data columns (total 5 columns):\n",
      " #   Column        Non-Null Count   Dtype         \n",
      "---  ------        --------------   -----         \n",
      " 0   Datetime      125226 non-null  datetime64[ns]\n",
      " 1   Sales Total   125226 non-null  int64         \n",
      " 2   Store         125226 non-null  int64         \n",
      " 3   Product Type  125226 non-null  object        \n",
      " 4   Item          125226 non-null  object        \n",
      "dtypes: datetime64[ns](1), int64(2), object(2)\n",
      "memory usage: 4.8+ MB\n",
      "<class 'pandas.core.frame.DataFrame'>\n",
      "RangeIndex: 352894 entries, 0 to 352893\n",
      "Data columns (total 5 columns):\n",
      " #   Column         Non-Null Count   Dtype         \n",
      "---  ------         --------------   -----         \n",
      " 0   Datetime       352894 non-null  datetime64[ns]\n",
      " 1   Industry Size  352894 non-null  int64         \n",
      " 2   Store          352894 non-null  int64         \n",
      " 3   Product Type   352894 non-null  object        \n",
      " 4   Item           352894 non-null  object        \n",
      "dtypes: datetime64[ns](1), int64(2), object(2)\n",
      "memory usage: 13.5+ MB\n"
     ]
    }
   ],
   "source": [
    "# Month가 datetime 형식으로 되어있는데, 이를 필요한 데이터만 얻기 위하여 분리\n",
    "# datetime 형변환\n",
    "retail_data[\"Month\"] = pd.to_datetime(retail_data[\"Month\"], format=\"%Y-%m-%d %H:%M:%S\")\n",
    "industry_data[\"Month\"] = pd.to_datetime(industry_data[\"Month\"], format=\"%Y-%m-%d %H:%M:%S\")\n",
    "\n",
    "# 열 이름 변경\n",
    "retail_data.rename(columns={\"Month\": \"Datetime\"}, inplace=True)\n",
    "retail_data.info()\n",
    "\n",
    "industry_data.rename(columns={\"Month\": \"Datetime\"}, inplace=True)\n",
    "industry_data.info()"
   ]
  },
  {
   "cell_type": "code",
   "execution_count": 5,
   "metadata": {},
   "outputs": [],
   "source": [
    "retail_data[\"Year\"] = retail_data[\"Datetime\"].dt.year\n",
    "retail_data[\"Month\"] = retail_data[\"Datetime\"].dt.month\n",
    "retail_data[\"Day\"] = retail_data[\"Datetime\"].dt.day\n",
    "retail_data[\"Time\"] = retail_data[\"Datetime\"].dt.time\n",
    "\n",
    "industry_data[\"Year\"] = industry_data[\"Datetime\"].dt.year\n",
    "industry_data[\"Month\"] = industry_data[\"Datetime\"].dt.month\n",
    "industry_data[\"Day\"] = industry_data[\"Datetime\"].dt.day\n",
    "industry_data[\"Time\"] = industry_data[\"Datetime\"].dt.time"
   ]
  },
  {
   "attachments": {},
   "cell_type": "markdown",
   "metadata": {},
   "source": [
    "- day와 time은 필요 없는 값 (1일과 0시만 존재)\n",
    "- Year, month만 선택해서 datetime을 만들 때 기본 1일 0시로 들어가게 된다"
   ]
  },
  {
   "cell_type": "code",
   "execution_count": 167,
   "metadata": {},
   "outputs": [],
   "source": [
    "# column 선택\n",
    "retail_data = retail_data[[\"Sales Total\", \"Store\", \"Product Type\", \"Item\", \"Year\", \"Month\", \"Datetime\"]]\n",
    "industry_data = industry_data[[\"Industry Size\", \"Store\", \"Product Type\", \"Item\", \"Year\", \"Month\", \"Datetime\"]]"
   ]
  },
  {
   "attachments": {},
   "cell_type": "markdown",
   "metadata": {},
   "source": [
    "- Store 정보를 추가한다"
   ]
  },
  {
   "cell_type": "code",
   "execution_count": 168,
   "metadata": {},
   "outputs": [
    {
     "name": "stderr",
     "output_type": "stream",
     "text": [
      "100%|██████████| 125226/125226 [00:51<00:00, 2412.11it/s]\n"
     ]
    }
   ],
   "source": [
    "# retail\n",
    "region_lv1 = []\n",
    "region_lv2 = []\n",
    "urban_rural = []\n",
    "\n",
    "for i in tqdm(range(len(retail_data))):\n",
    "    store_num = retail_data.loc[i][\"Store\"]\n",
    "    idx = store_num - 1\n",
    "    region_lv1.append(dealer_hierarchies.loc[idx][\"Region Level 1\"])\n",
    "    region_lv2.append(dealer_hierarchies.loc[idx][\"Region Level 2\"])\n",
    "    urban_rural.append(dealer_hierarchies.loc[idx][\"Urban/Rural\"])\n",
    "\n",
    "retail_data[\"Region Level 1\"] = region_lv1\n",
    "retail_data[\"Region Level 2\"] = region_lv2\n",
    "retail_data[\"Urban/Rural\"] = urban_rural"
   ]
  },
  {
   "cell_type": "code",
   "execution_count": 169,
   "metadata": {},
   "outputs": [
    {
     "name": "stderr",
     "output_type": "stream",
     "text": [
      "100%|██████████| 352894/352894 [02:27<00:00, 2386.15it/s]\n"
     ]
    }
   ],
   "source": [
    "# industry\n",
    "region_lv1 = []\n",
    "region_lv2 = []\n",
    "urban_rural = []\n",
    "\n",
    "for i in tqdm(range(len(industry_data))):\n",
    "    store_num = industry_data.loc[i][\"Store\"]\n",
    "    idx = store_num - 1\n",
    "    region_lv1.append(dealer_hierarchies.loc[idx][\"Region Level 1\"])\n",
    "    region_lv2.append(dealer_hierarchies.loc[idx][\"Region Level 2\"])\n",
    "    urban_rural.append(dealer_hierarchies.loc[idx][\"Urban/Rural\"])\n",
    "\n",
    "industry_data[\"Region Level 1\"] = region_lv1\n",
    "industry_data[\"Region Level 2\"] = region_lv2\n",
    "industry_data[\"Urban/Rural\"] = urban_rural"
   ]
  },
  {
   "cell_type": "code",
   "execution_count": 170,
   "metadata": {},
   "outputs": [],
   "source": [
    "# 2)에 대한 중간저장과 불러오기를 진행\n",
    "# *** 나중에 주석 풀어야함 ***\n",
    "# retail_data.to_csv(f\"{file_path}Retail_data_add_region.csv\", index=False)\n",
    "# industry_data.to_csv(f\"{file_path}Industry_data_add_region.csv\", index=False)\n",
    "\n",
    "retail_data_ar= pd.read_csv(f\"{file_path}Retail_data_add_region.csv\")\n",
    "industry_data_ar = pd.read_csv(f\"{file_path}Industry_data_add_region.csv\")"
   ]
  },
  {
   "attachments": {},
   "cell_type": "markdown",
   "metadata": {},
   "source": [
    "### 3) 이상치 제거"
   ]
  },
  {
   "attachments": {},
   "cell_type": "markdown",
   "metadata": {},
   "source": [
    "- 이상치 (industry < retail)의 경우 모두 0으로 변경한다\n",
    "- 큰 값으로 맞춰주는 것보다 0으로 변경하는 것의 예측 결과가 더 좋았음"
   ]
  },
  {
   "attachments": {},
   "cell_type": "markdown",
   "metadata": {},
   "source": [
    "- industry data > retail data 를 확인하기 위해서 store-item-Datetime 열을 생성한다"
   ]
  },
  {
   "cell_type": "code",
   "execution_count": 171,
   "metadata": {},
   "outputs": [
    {
     "name": "stderr",
     "output_type": "stream",
     "text": [
      "100%|██████████| 125226/125226 [00:50<00:00, 2502.07it/s]\n"
     ]
    }
   ],
   "source": [
    "retail_si = []\n",
    "for i in tqdm(range(len(retail_data_ar))):\n",
    "    store = retail_data_ar.loc[i]['Store']\n",
    "    item = retail_data_ar.loc[i]['Item']\n",
    "    year = retail_data_ar.loc[i][\"Year\"]\n",
    "    month = retail_data_ar.loc[i][\"Month\"]\n",
    "    retail_si.append(f'{store}-{item}-{year}-{month}')"
   ]
  },
  {
   "cell_type": "code",
   "execution_count": 172,
   "metadata": {},
   "outputs": [],
   "source": [
    "retail_data_ar['StoreItem'] = retail_si"
   ]
  },
  {
   "cell_type": "code",
   "execution_count": 173,
   "metadata": {},
   "outputs": [
    {
     "name": "stderr",
     "output_type": "stream",
     "text": [
      "100%|██████████| 352894/352894 [02:20<00:00, 2513.04it/s]\n"
     ]
    }
   ],
   "source": [
    "industry_si = []\n",
    "for i in tqdm(range(len(industry_data_ar))):\n",
    "    store = industry_data_ar.loc[i]['Store']\n",
    "    item = industry_data_ar.loc[i]['Item']\n",
    "    year = industry_data_ar.loc[i][\"Year\"]\n",
    "    month = industry_data_ar.loc[i][\"Month\"]\n",
    "    industry_si.append(f'{store}-{item}-{year}-{month}')\n",
    "    "
   ]
  },
  {
   "cell_type": "code",
   "execution_count": 174,
   "metadata": {},
   "outputs": [],
   "source": [
    "industry_data_ar['StoreItem'] = industry_si"
   ]
  },
  {
   "cell_type": "code",
   "execution_count": 175,
   "metadata": {},
   "outputs": [],
   "source": [
    "retail_err_idx = []\n",
    "industry_err_idx = []"
   ]
  },
  {
   "cell_type": "code",
   "execution_count": 176,
   "metadata": {},
   "outputs": [
    {
     "name": "stderr",
     "output_type": "stream",
     "text": [
      "100%|██████████| 125226/125226 [47:22<00:00, 44.06it/s]\n"
     ]
    }
   ],
   "source": [
    "for i in tqdm(range(len(retail_data_ar))):\n",
    "    storeitem = retail_data_ar.loc[i]['StoreItem']\n",
    "    same_item_df = industry_data_ar[industry_data_ar['StoreItem']==storeitem]\n",
    "    if len(same_item_df) == 0:\n",
    "        retail_err_idx.append(i)\n",
    "        continue\n",
    "    \n",
    "    if same_item_df.iloc[0]['Industry Size'] < retail_data_ar.loc[i][\"Sales Total\"]: # Sales total이 더 크면 error\n",
    "        retail_err_idx.append(i)\n",
    "        industry_err_idx.append(same_item_df.index[0])"
   ]
  },
  {
   "cell_type": "code",
   "execution_count": 177,
   "metadata": {},
   "outputs": [
    {
     "name": "stdout",
     "output_type": "stream",
     "text": [
      "23401\n",
      "4205\n"
     ]
    }
   ],
   "source": [
    "print(len(retail_err_idx))\n",
    "print(len(industry_err_idx))"
   ]
  },
  {
   "cell_type": "code",
   "execution_count": 178,
   "metadata": {},
   "outputs": [],
   "source": [
    "# ***\n",
    "# with open('retail_err_idx.pkl','wb') as f:\n",
    "#     pickle.dump(retail_err_idx,f)\n",
    "# with open('industry_err_idx.pkl','wb') as f:\n",
    "#     pickle.dump(industry_err_idx,f)\n",
    "\n",
    "with open('retail_err_idx.pkl','rb') as f:\n",
    "    retail_err_idx = pickle.load(f)\n",
    "with open('industry_err_idx.pkl', 'rb') as f:\n",
    "    industry_err_idx = pickle.load(f)"
   ]
  },
  {
   "cell_type": "code",
   "execution_count": 179,
   "metadata": {},
   "outputs": [],
   "source": [
    "# label 을 없앤다\n",
    "retail_data_ar_delidx = retail_data_ar.drop(retail_err_idx).reset_index(drop=True)\n",
    "industry_data_ar_delidx = industry_data_ar.drop(industry_err_idx).reset_index(drop=True)"
   ]
  },
  {
   "cell_type": "code",
   "execution_count": 180,
   "metadata": {},
   "outputs": [],
   "source": [
    "retail_data_ar_delidx['Store'] = retail_data_ar_delidx['Store'].astype(str)\n",
    "industry_data_ar_delidx['Store'] = industry_data_ar_delidx['Store'].astype(str)"
   ]
  },
  {
   "cell_type": "code",
   "execution_count": 181,
   "metadata": {},
   "outputs": [],
   "source": [
    "retail_data_ar_delidx = retail_data_ar_delidx[['Sales Total','Store', 'Product Type', 'Item','Year','Month','Datetime','Region Level 1','Region Level 2','Urban/Rural']]\n",
    "industry_data_ar_delidx = industry_data_ar_delidx[['Industry Size','Store', 'Product Type', 'Item','Year','Month','Datetime','Region Level 1','Region Level 2','Urban/Rural']]\n"
   ]
  },
  {
   "cell_type": "code",
   "execution_count": 182,
   "metadata": {},
   "outputs": [
    {
     "data": {
      "text/html": [
       "<div>\n",
       "<style scoped>\n",
       "    .dataframe tbody tr th:only-of-type {\n",
       "        vertical-align: middle;\n",
       "    }\n",
       "\n",
       "    .dataframe tbody tr th {\n",
       "        vertical-align: top;\n",
       "    }\n",
       "\n",
       "    .dataframe thead th {\n",
       "        text-align: right;\n",
       "    }\n",
       "</style>\n",
       "<table border=\"1\" class=\"dataframe\">\n",
       "  <thead>\n",
       "    <tr style=\"text-align: right;\">\n",
       "      <th></th>\n",
       "      <th>Sales Total</th>\n",
       "      <th>Store</th>\n",
       "      <th>Product Type</th>\n",
       "      <th>Item</th>\n",
       "      <th>Year</th>\n",
       "      <th>Month</th>\n",
       "      <th>Datetime</th>\n",
       "      <th>Region Level 1</th>\n",
       "      <th>Region Level 2</th>\n",
       "      <th>Urban/Rural</th>\n",
       "    </tr>\n",
       "  </thead>\n",
       "  <tbody>\n",
       "    <tr>\n",
       "      <th>0</th>\n",
       "      <td>1</td>\n",
       "      <td>1</td>\n",
       "      <td>Electronics</td>\n",
       "      <td>Phone Charger</td>\n",
       "      <td>2021</td>\n",
       "      <td>2</td>\n",
       "      <td>2021-02-01</td>\n",
       "      <td>Eisenstadt-Umgebung</td>\n",
       "      <td>GWR</td>\n",
       "      <td>Urban</td>\n",
       "    </tr>\n",
       "    <tr>\n",
       "      <th>1</th>\n",
       "      <td>5</td>\n",
       "      <td>1</td>\n",
       "      <td>Grocery</td>\n",
       "      <td>Shrimp</td>\n",
       "      <td>2021</td>\n",
       "      <td>2</td>\n",
       "      <td>2021-02-01</td>\n",
       "      <td>Eisenstadt-Umgebung</td>\n",
       "      <td>GWR</td>\n",
       "      <td>Urban</td>\n",
       "    </tr>\n",
       "    <tr>\n",
       "      <th>2</th>\n",
       "      <td>2</td>\n",
       "      <td>1</td>\n",
       "      <td>Grocery</td>\n",
       "      <td>Noodles</td>\n",
       "      <td>2021</td>\n",
       "      <td>2</td>\n",
       "      <td>2021-02-01</td>\n",
       "      <td>Eisenstadt-Umgebung</td>\n",
       "      <td>GWR</td>\n",
       "      <td>Urban</td>\n",
       "    </tr>\n",
       "  </tbody>\n",
       "</table>\n",
       "</div>"
      ],
      "text/plain": [
       "   Sales Total Store Product Type           Item  Year  Month    Datetime  \\\n",
       "0            1     1  Electronics  Phone Charger  2021      2  2021-02-01   \n",
       "1            5     1      Grocery         Shrimp  2021      2  2021-02-01   \n",
       "2            2     1      Grocery        Noodles  2021      2  2021-02-01   \n",
       "\n",
       "        Region Level 1 Region Level 2 Urban/Rural  \n",
       "0  Eisenstadt-Umgebung            GWR       Urban  \n",
       "1  Eisenstadt-Umgebung            GWR       Urban  \n",
       "2  Eisenstadt-Umgebung            GWR       Urban  "
      ]
     },
     "execution_count": 182,
     "metadata": {},
     "output_type": "execute_result"
    }
   ],
   "source": [
    "retail_data_ar_delidx.head(3)"
   ]
  },
  {
   "cell_type": "code",
   "execution_count": 183,
   "metadata": {},
   "outputs": [
    {
     "name": "stderr",
     "output_type": "stream",
     "text": [
      "100%|██████████| 101825/101825 [00:19<00:00, 5225.50it/s]\n",
      "100%|██████████| 348689/348689 [01:07<00:00, 5199.44it/s]\n"
     ]
    }
   ],
   "source": [
    "# owner 정보 추가\n",
    "retail_owner = []\n",
    "industry_owner = []\n",
    "\n",
    "for i in tqdm(range(len(retail_data_ar_delidx))):\n",
    "    store = int(retail_data_ar_delidx.loc[i]['Store'])\n",
    "    owner = d_h.loc[store-1]['Store Owner']\n",
    "    retail_owner.append(owner)\n",
    "\n",
    "for i in tqdm(range(len(industry_data_ar_delidx))):\n",
    "    store = int(industry_data_ar_delidx.loc[i]['Store'])\n",
    "    owner = d_h.loc[store-1]['Store Owner']\n",
    "    industry_owner.append(owner)"
   ]
  },
  {
   "cell_type": "code",
   "execution_count": 184,
   "metadata": {},
   "outputs": [],
   "source": [
    "retail_data_ar_delidx['Owner'] = retail_owner\n",
    "industry_data_ar_delidx['Owner'] = industry_owner"
   ]
  },
  {
   "cell_type": "code",
   "execution_count": 185,
   "metadata": {},
   "outputs": [],
   "source": [
    "# 3)에 대한 중간저장과 불러오기를 진행\n",
    "# *** 나중에 주석 풀어야함 ***\n",
    "# retail_data_ar_delidx.to_csv(f\"{file_path}retail_all.csv\", index=False)\n",
    "# industry_data_ar_delidx.to_csv(f\"{file_path}industry_all.csv\", index=False)\n",
    "\n",
    "retail_data= pd.read_csv(f\"{file_path}retail_all.csv\")\n",
    "industry_data = pd.read_csv(f\"{file_path}industry_all.csv\")\n"
   ]
  },
  {
   "attachments": {},
   "cell_type": "markdown",
   "metadata": {},
   "source": [
    "### 4) 빈 데이터 채우기"
   ]
  },
  {
   "attachments": {},
   "cell_type": "markdown",
   "metadata": {},
   "source": [
    "- 기존 industry_data는 348689행이지만, 0인 정보들 고려 위해서 전체 행에 해당하는 열 만들어줌\n",
    "- industry_data_add0: 1040040행 가진 data"
   ]
  },
  {
   "cell_type": "code",
   "execution_count": 186,
   "metadata": {},
   "outputs": [],
   "source": [
    "datetime_list = list(dict.fromkeys(list(industry_data['Datetime'])))\n",
    "store_list = [i for i in range(1, 643)] # 1~642"
   ]
  },
  {
   "cell_type": "code",
   "execution_count": 187,
   "metadata": {},
   "outputs": [],
   "source": [
    "product_dict = {\"Power Cord\":\"Electronics\",\n",
    "                \"Phone Charger\":\"Electronics\",\n",
    "                \"Ear Buds\":\"Electronics\",\n",
    "                \"Mouse\":\"Electronics\",\n",
    "                \"Keyboard\":\"Electronics\",\n",
    "                \"Milk\":\"Grocery\",\n",
    "                \"Eggs\":\"Grocery\",\n",
    "                \"Cereal\":\"Grocery\",\n",
    "                \"Shrimp\":\"Grocery\",\n",
    "                \"Noodles\":\"Grocery\",\n",
    "                \"Steak\":\"Grocery\",\n",
    "                \"King Crab\":\"Grocery\",\n",
    "                \"Tape\":\"Home Goods\",\n",
    "                \"Glue\":\"Home Goods\",\n",
    "                \"Nails\":\"Home Goods\",\n",
    "                \"Bracket\":\"Home Goods\",\n",
    "                \"Brush\":\"Home Goods\",\n",
    "                \"Paint\":\"Home Goods\"\n",
    "                }"
   ]
  },
  {
   "cell_type": "code",
   "execution_count": 188,
   "metadata": {},
   "outputs": [],
   "source": [
    "# 추가할 dataframe\n",
    "new_df = pd.DataFrame(\n",
    "    [],columns = ['Industry Size', 'Store', 'Product Type', 'Item', 'Year', 'Month','Datetime', 'Region Level 1', 'Region Level 2', 'Urban/Rural', 'Owner']\n",
    ")"
   ]
  },
  {
   "cell_type": "code",
   "execution_count": 189,
   "metadata": {},
   "outputs": [],
   "source": [
    "from re import S\n",
    "\n",
    "\n",
    "def append_new_sentence(new_df, product,d,s):\n",
    "    new_df.loc[len(new_df)] = [\n",
    "        0, #industry size\n",
    "        s, #store\n",
    "        product_dict[product], #item\n",
    "        product, #product type\n",
    "        int(d[:4]), # year\n",
    "        int(d[5:7]), # month\n",
    "        d, # datetime\n",
    "        d_h.loc[s-1]['Region Level 1'],\n",
    "        d_h.loc[s-1]['Region Level 2'],\n",
    "        d_h.loc[s-1]['Urban/Rural'],\n",
    "        d_h.loc[s-1]['Store Owner']\n",
    "    ]\n",
    "    \n"
   ]
  },
  {
   "cell_type": "code",
   "execution_count": 190,
   "metadata": {},
   "outputs": [
    {
     "name": "stderr",
     "output_type": "stream",
     "text": [
      " 14%|█▍        | 12/87 [1:05:10<6:47:22, 325.90s/it]\n"
     ]
    },
    {
     "ename": "KeyboardInterrupt",
     "evalue": "",
     "output_type": "error",
     "traceback": [
      "\u001b[0;31m---------------------------------------------------------------------------\u001b[0m",
      "\u001b[0;31mKeyboardInterrupt\u001b[0m                         Traceback (most recent call last)",
      "\u001b[1;32m/home/ubuntu/minji/Data-Science-Project/xgboost_final.ipynb Cell 41\u001b[0m in \u001b[0;36m<cell line: 2>\u001b[0;34m()\u001b[0m\n\u001b[1;32m      <a href='vscode-notebook-cell://ssh-remote%2Bjaypark/home/ubuntu/minji/Data-Science-Project/xgboost_final.ipynb#Y152sdnNjb2RlLXJlbW90ZQ%3D%3D?line=2'>3</a>\u001b[0m \u001b[39mfor\u001b[39;00m product \u001b[39min\u001b[39;00m \u001b[39mlist\u001b[39m(product_dict\u001b[39m.\u001b[39mkeys()): \u001b[39m#key\u001b[39;00m\n\u001b[1;32m      <a href='vscode-notebook-cell://ssh-remote%2Bjaypark/home/ubuntu/minji/Data-Science-Project/xgboost_final.ipynb#Y152sdnNjb2RlLXJlbW90ZQ%3D%3D?line=3'>4</a>\u001b[0m     \u001b[39mfor\u001b[39;00m s \u001b[39min\u001b[39;00m store_list:\n\u001b[0;32m----> <a href='vscode-notebook-cell://ssh-remote%2Bjaypark/home/ubuntu/minji/Data-Science-Project/xgboost_final.ipynb#Y152sdnNjb2RlLXJlbW90ZQ%3D%3D?line=4'>5</a>\u001b[0m         datetime_df \u001b[39m=\u001b[39m industry_data[(industry_data[\u001b[39m'\u001b[39;49m\u001b[39mDatetime\u001b[39;49m\u001b[39m'\u001b[39;49m]\u001b[39m==\u001b[39;49md)\u001b[39m&\u001b[39m(industry_data[\u001b[39m'\u001b[39m\u001b[39mStore\u001b[39m\u001b[39m'\u001b[39m]\u001b[39m==\u001b[39ms)] \u001b[39m# 해당 datetime의 df\u001b[39;00m\n\u001b[1;32m      <a href='vscode-notebook-cell://ssh-remote%2Bjaypark/home/ubuntu/minji/Data-Science-Project/xgboost_final.ipynb#Y152sdnNjb2RlLXJlbW90ZQ%3D%3D?line=5'>6</a>\u001b[0m         \u001b[39mif\u001b[39;00m \u001b[39mlen\u001b[39m(datetime_df[datetime_df[\u001b[39m'\u001b[39m\u001b[39mItem\u001b[39m\u001b[39m'\u001b[39m]\u001b[39m==\u001b[39mproduct])\u001b[39m==\u001b[39m\u001b[39m0\u001b[39m:\n\u001b[1;32m      <a href='vscode-notebook-cell://ssh-remote%2Bjaypark/home/ubuntu/minji/Data-Science-Project/xgboost_final.ipynb#Y152sdnNjb2RlLXJlbW90ZQ%3D%3D?line=6'>7</a>\u001b[0m             append_new_sentence(new_df,product,d,s)\n",
      "File \u001b[0;32m~/anaconda3/envs/py38mj/lib/python3.8/site-packages/pandas/core/ops/common.py:70\u001b[0m, in \u001b[0;36m_unpack_zerodim_and_defer.<locals>.new_method\u001b[0;34m(self, other)\u001b[0m\n\u001b[1;32m     66\u001b[0m             \u001b[39mreturn\u001b[39;00m \u001b[39mNotImplemented\u001b[39m\n\u001b[1;32m     68\u001b[0m other \u001b[39m=\u001b[39m item_from_zerodim(other)\n\u001b[0;32m---> 70\u001b[0m \u001b[39mreturn\u001b[39;00m method(\u001b[39mself\u001b[39;49m, other)\n",
      "File \u001b[0;32m~/anaconda3/envs/py38mj/lib/python3.8/site-packages/pandas/core/arraylike.py:40\u001b[0m, in \u001b[0;36mOpsMixin.__eq__\u001b[0;34m(self, other)\u001b[0m\n\u001b[1;32m     38\u001b[0m \u001b[39m@unpack_zerodim_and_defer\u001b[39m(\u001b[39m\"\u001b[39m\u001b[39m__eq__\u001b[39m\u001b[39m\"\u001b[39m)\n\u001b[1;32m     39\u001b[0m \u001b[39mdef\u001b[39;00m \u001b[39m__eq__\u001b[39m(\u001b[39mself\u001b[39m, other):\n\u001b[0;32m---> 40\u001b[0m     \u001b[39mreturn\u001b[39;00m \u001b[39mself\u001b[39;49m\u001b[39m.\u001b[39;49m_cmp_method(other, operator\u001b[39m.\u001b[39;49meq)\n",
      "File \u001b[0;32m~/anaconda3/envs/py38mj/lib/python3.8/site-packages/pandas/core/series.py:5623\u001b[0m, in \u001b[0;36mSeries._cmp_method\u001b[0;34m(self, other, op)\u001b[0m\n\u001b[1;32m   5620\u001b[0m rvalues \u001b[39m=\u001b[39m extract_array(other, extract_numpy\u001b[39m=\u001b[39m\u001b[39mTrue\u001b[39;00m, extract_range\u001b[39m=\u001b[39m\u001b[39mTrue\u001b[39;00m)\n\u001b[1;32m   5622\u001b[0m \u001b[39mwith\u001b[39;00m np\u001b[39m.\u001b[39merrstate(\u001b[39mall\u001b[39m\u001b[39m=\u001b[39m\u001b[39m\"\u001b[39m\u001b[39mignore\u001b[39m\u001b[39m\"\u001b[39m):\n\u001b[0;32m-> 5623\u001b[0m     res_values \u001b[39m=\u001b[39m ops\u001b[39m.\u001b[39;49mcomparison_op(lvalues, rvalues, op)\n\u001b[1;32m   5625\u001b[0m \u001b[39mreturn\u001b[39;00m \u001b[39mself\u001b[39m\u001b[39m.\u001b[39m_construct_result(res_values, name\u001b[39m=\u001b[39mres_name)\n",
      "File \u001b[0;32m~/anaconda3/envs/py38mj/lib/python3.8/site-packages/pandas/core/ops/array_ops.py:283\u001b[0m, in \u001b[0;36mcomparison_op\u001b[0;34m(left, right, op)\u001b[0m\n\u001b[1;32m    280\u001b[0m     \u001b[39mreturn\u001b[39;00m invalid_comparison(lvalues, rvalues, op)\n\u001b[1;32m    282\u001b[0m \u001b[39melif\u001b[39;00m is_object_dtype(lvalues\u001b[39m.\u001b[39mdtype) \u001b[39mor\u001b[39;00m \u001b[39misinstance\u001b[39m(rvalues, \u001b[39mstr\u001b[39m):\n\u001b[0;32m--> 283\u001b[0m     res_values \u001b[39m=\u001b[39m comp_method_OBJECT_ARRAY(op, lvalues, rvalues)\n\u001b[1;32m    285\u001b[0m \u001b[39melse\u001b[39;00m:\n\u001b[1;32m    286\u001b[0m     res_values \u001b[39m=\u001b[39m _na_arithmetic_op(lvalues, rvalues, op, is_cmp\u001b[39m=\u001b[39m\u001b[39mTrue\u001b[39;00m)\n",
      "File \u001b[0;32m~/anaconda3/envs/py38mj/lib/python3.8/site-packages/pandas/core/ops/array_ops.py:73\u001b[0m, in \u001b[0;36mcomp_method_OBJECT_ARRAY\u001b[0;34m(op, x, y)\u001b[0m\n\u001b[1;32m     71\u001b[0m     result \u001b[39m=\u001b[39m libops\u001b[39m.\u001b[39mvec_compare(x\u001b[39m.\u001b[39mravel(), y\u001b[39m.\u001b[39mravel(), op)\n\u001b[1;32m     72\u001b[0m \u001b[39melse\u001b[39;00m:\n\u001b[0;32m---> 73\u001b[0m     result \u001b[39m=\u001b[39m libops\u001b[39m.\u001b[39;49mscalar_compare(x\u001b[39m.\u001b[39;49mravel(), y, op)\n\u001b[1;32m     74\u001b[0m \u001b[39mreturn\u001b[39;00m result\u001b[39m.\u001b[39mreshape(x\u001b[39m.\u001b[39mshape)\n",
      "\u001b[0;31mKeyboardInterrupt\u001b[0m: "
     ]
    }
   ],
   "source": [
    "# 재고 0인 행 목록에 추가\n",
    "for d in tqdm(datetime_list):\n",
    "    for product in list(product_dict.keys()): #key\n",
    "        for s in store_list:\n",
    "            datetime_df = industry_data[(industry_data['Datetime']==d)&(industry_data['Store']==s)] # 해당 datetime의 df\n",
    "            if len(datetime_df[datetime_df['Item']==product])==0:\n",
    "                append_new_sentence(new_df,product,d,s)"
   ]
  },
  {
   "cell_type": "code",
   "execution_count": null,
   "metadata": {},
   "outputs": [],
   "source": [
    "# 추가\n",
    "industry_data_1_add0 = industry_data.append(new_df, ignore_index=True)\n",
    "\n",
    "# 정렬 # 1040040 개여야함\n",
    "industry_data_1_add0.sort_values(['Datetime','Item','Store'],inplace=True)\n",
    "industry_data_1_add0.reset_index(drop=True,inplace=True)\n"
   ]
  },
  {
   "cell_type": "code",
   "execution_count": null,
   "metadata": {},
   "outputs": [],
   "source": [
    "# ***\n",
    "#industry_data_1_add0.to_csv('./industry_data_add0.csv',index=False)\n"
   ]
  },
  {
   "attachments": {},
   "cell_type": "markdown",
   "metadata": {},
   "source": [
    "## 2. Xgboost 이용한 예측 모델 생성"
   ]
  },
  {
   "cell_type": "code",
   "execution_count": 19,
   "metadata": {},
   "outputs": [],
   "source": [
    "# 1)에서 생성한 파일 오픈\n",
    "industry_data_1_add0 = pd.read_csv('./dataset_new/industry_data_add0.csv')"
   ]
  },
  {
   "cell_type": "code",
   "execution_count": 20,
   "metadata": {},
   "outputs": [],
   "source": [
    "# 제출 형식에 맞게 정렬\n",
    "industry_data_1_add0.sort_values(['Datetime','Store','Item'],inplace=True)\n",
    "industry_data_1_add0.reset_index(drop=True,inplace=True)\n",
    "#industry_data_1_add0"
   ]
  },
  {
   "cell_type": "code",
   "execution_count": 21,
   "metadata": {},
   "outputs": [],
   "source": [
    "# Label encoding\n",
    "\n",
    "label = preprocessing.LabelEncoder()\n",
    "industry_data_encoded = pd.DataFrame()\n",
    "\n",
    "industry_data_1_col = ['Product Type', 'Item', 'Region Level 1', 'Region Level 2', 'Urban/Rural']\n",
    "for i in industry_data_1_add0.columns:\n",
    "    if i in industry_data_1_col:\n",
    "        industry_data_encoded[i] = label.fit_transform(industry_data_1_add0[i])\n",
    "    else:\n",
    "        industry_data_encoded[i] = industry_data_1_add0[i]"
   ]
  },
  {
   "cell_type": "code",
   "execution_count": 22,
   "metadata": {},
   "outputs": [
    {
     "data": {
      "text/html": [
       "<div>\n",
       "<style scoped>\n",
       "    .dataframe tbody tr th:only-of-type {\n",
       "        vertical-align: middle;\n",
       "    }\n",
       "\n",
       "    .dataframe tbody tr th {\n",
       "        vertical-align: top;\n",
       "    }\n",
       "\n",
       "    .dataframe thead th {\n",
       "        text-align: right;\n",
       "    }\n",
       "</style>\n",
       "<table border=\"1\" class=\"dataframe\">\n",
       "  <thead>\n",
       "    <tr style=\"text-align: right;\">\n",
       "      <th></th>\n",
       "      <th>Industry Size</th>\n",
       "      <th>Store</th>\n",
       "      <th>Product Type</th>\n",
       "      <th>Item</th>\n",
       "      <th>Year</th>\n",
       "      <th>Month</th>\n",
       "      <th>Datetime</th>\n",
       "      <th>Region Level 1</th>\n",
       "      <th>Region Level 2</th>\n",
       "      <th>Urban/Rural</th>\n",
       "      <th>Owner</th>\n",
       "      <th>quarter</th>\n",
       "    </tr>\n",
       "  </thead>\n",
       "  <tbody>\n",
       "    <tr>\n",
       "      <th>0</th>\n",
       "      <td>0</td>\n",
       "      <td>1</td>\n",
       "      <td>2</td>\n",
       "      <td>0</td>\n",
       "      <td>2015</td>\n",
       "      <td>1</td>\n",
       "      <td>2015-01-01</td>\n",
       "      <td>31</td>\n",
       "      <td>9</td>\n",
       "      <td>1</td>\n",
       "      <td>1</td>\n",
       "      <td>1</td>\n",
       "    </tr>\n",
       "    <tr>\n",
       "      <th>1</th>\n",
       "      <td>0</td>\n",
       "      <td>1</td>\n",
       "      <td>2</td>\n",
       "      <td>1</td>\n",
       "      <td>2015</td>\n",
       "      <td>1</td>\n",
       "      <td>2015-01-01</td>\n",
       "      <td>31</td>\n",
       "      <td>9</td>\n",
       "      <td>1</td>\n",
       "      <td>1</td>\n",
       "      <td>1</td>\n",
       "    </tr>\n",
       "    <tr>\n",
       "      <th>2</th>\n",
       "      <td>0</td>\n",
       "      <td>1</td>\n",
       "      <td>1</td>\n",
       "      <td>2</td>\n",
       "      <td>2015</td>\n",
       "      <td>1</td>\n",
       "      <td>2015-01-01</td>\n",
       "      <td>31</td>\n",
       "      <td>9</td>\n",
       "      <td>1</td>\n",
       "      <td>1</td>\n",
       "      <td>1</td>\n",
       "    </tr>\n",
       "    <tr>\n",
       "      <th>3</th>\n",
       "      <td>0</td>\n",
       "      <td>1</td>\n",
       "      <td>0</td>\n",
       "      <td>3</td>\n",
       "      <td>2015</td>\n",
       "      <td>1</td>\n",
       "      <td>2015-01-01</td>\n",
       "      <td>31</td>\n",
       "      <td>9</td>\n",
       "      <td>1</td>\n",
       "      <td>1</td>\n",
       "      <td>1</td>\n",
       "    </tr>\n",
       "    <tr>\n",
       "      <th>4</th>\n",
       "      <td>0</td>\n",
       "      <td>1</td>\n",
       "      <td>1</td>\n",
       "      <td>4</td>\n",
       "      <td>2015</td>\n",
       "      <td>1</td>\n",
       "      <td>2015-01-01</td>\n",
       "      <td>31</td>\n",
       "      <td>9</td>\n",
       "      <td>1</td>\n",
       "      <td>1</td>\n",
       "      <td>1</td>\n",
       "    </tr>\n",
       "  </tbody>\n",
       "</table>\n",
       "</div>"
      ],
      "text/plain": [
       "   Industry Size  Store  Product Type  Item  Year  Month    Datetime  \\\n",
       "0              0      1             2     0  2015      1  2015-01-01   \n",
       "1              0      1             2     1  2015      1  2015-01-01   \n",
       "2              0      1             1     2  2015      1  2015-01-01   \n",
       "3              0      1             0     3  2015      1  2015-01-01   \n",
       "4              0      1             1     4  2015      1  2015-01-01   \n",
       "\n",
       "   Region Level 1  Region Level 2  Urban/Rural  Owner  quarter  \n",
       "0              31               9            1      1        1  \n",
       "1              31               9            1      1        1  \n",
       "2              31               9            1      1        1  \n",
       "3              31               9            1      1        1  \n",
       "4              31               9            1      1        1  "
      ]
     },
     "execution_count": 22,
     "metadata": {},
     "output_type": "execute_result"
    }
   ],
   "source": [
    "industry_data_encoded.head()"
   ]
  },
  {
   "cell_type": "code",
   "execution_count": 23,
   "metadata": {},
   "outputs": [
    {
     "data": {
      "text/plain": [
       "34597.5"
      ]
     },
     "execution_count": 23,
     "metadata": {},
     "output_type": "execute_result"
    }
   ],
   "source": [
    "\n",
    "sum(industry_data_encoded[industry_data_encoded['Year']==2020]['Industry Size'])/4"
   ]
  },
  {
   "cell_type": "code",
   "execution_count": 38,
   "metadata": {},
   "outputs": [],
   "source": [
    "# 예측할 구간 선택\n",
    "set_dt = '2022-06-01'"
   ]
  },
  {
   "cell_type": "code",
   "execution_count": 39,
   "metadata": {},
   "outputs": [],
   "source": [
    "train_1 = industry_data_encoded[industry_data_encoded['Datetime'] < set_dt]\n",
    "val_1 = industry_data_encoded[(industry_data_encoded['Datetime'] >= set_dt)]"
   ]
  },
  {
   "cell_type": "code",
   "execution_count": 40,
   "metadata": {},
   "outputs": [
    {
     "name": "stdout",
     "output_type": "stream",
     "text": [
      "(1028484, 7) (1028484,)\n",
      "(11556, 7) (11556,)\n"
     ]
    }
   ],
   "source": [
    "# Feature와 Target 분리\n",
    "target = 'Industry Size'\n",
    "features = train_1.drop([target,\"Datetime\",'quarter','Region Level 1', 'Region Level 2'], axis=1).columns\n",
    "\n",
    "X_train = train_1[features]\n",
    "y_train = train_1[target]\n",
    "X_val = val_1[features]\n",
    "y_val = val_1[target]\n",
    "\n",
    "print(X_train.shape, y_train.shape)\n",
    "print(X_val.shape, y_val.shape)"
   ]
  },
  {
   "cell_type": "code",
   "execution_count": 41,
   "metadata": {},
   "outputs": [],
   "source": [
    "# 파이프라인 생성 및 학습\n",
    "xgb_basic = make_pipeline(\n",
    "    SimpleImputer(),\n",
    "    RobustScaler(),\n",
    "    XGBRegressor(random_state=1,\n",
    "                 n_jobs=-1,\n",
    "                 objective='reg:squarederror',\n",
    "                 max_depth=5, \n",
    "                 learning_rate=0.2, \n",
    "                    )\n",
    "                 )\n",
    "\n",
    "\"\"\"\n",
    "기본 parameter\n",
    "random_state=1,\n",
    "n_jobs=-1,\n",
    "objective='reg:squarederror',\n",
    "max_depth=5, \n",
    "learning_rate=0.2, \n",
    "\"\"\"\n",
    "\n",
    "'''\n",
    "dists = {\n",
    "    'max_depth': [3, 4, 5, 6, 7, 8],\n",
    "    'min_child_weight': [1, 2, 3, 4],\n",
    "    'gamma': [0, 0.01, 0.1, 0.2, 0.3],\n",
    "    'learning_rate': [0.001, 0.01, 0.1, 0.2, 0.3]}\n",
    "'''\n",
    "\n",
    "xgb_basic.fit(X_train, y_train);"
   ]
  },
  {
   "cell_type": "code",
   "execution_count": 42,
   "metadata": {},
   "outputs": [
    {
     "name": "stdout",
     "output_type": "stream",
     "text": [
      "mae:   0.12287988923502942\n",
      "rmse:  0.3537369117011909\n"
     ]
    }
   ],
   "source": [
    "# 예측\n",
    "y_pred = xgb_basic.predict(X_val)\n",
    "\n",
    "# prediction값 반올림\n",
    "y_pred_r =  [round(x) if round(x) >=0 else 0 for x in y_pred]\n",
    "\n",
    "# 결과 확인\n",
    "\n",
    "print('mae:  ', mae(y_val, y_pred_r))\n",
    "print('rmse: ', np.sqrt(mse(y_val, y_pred_r)))\n",
    "\n",
    "# RMSE는 MAE에 비해 직관성은 떨어지지만 Robust한 성격(극단적이지 않은 성격)에서 강점을 보인다."
   ]
  },
  {
   "cell_type": "code",
   "execution_count": 49,
   "metadata": {},
   "outputs": [
    {
     "data": {
      "image/png": "[encoded data removed]",
      "text/plain": [
       "<Figure size 1440x288 with 1 Axes>"
      ]
     },
     "metadata": {
      "needs_background": "light"
     },
     "output_type": "display_data"
    }
   ],
   "source": [
    "plt.figure(figsize=(20, 4))\n",
    "plt.plot([0], label='Actual')\n",
    "plt.plot(industry_data_encoded[industry_data_encoded['Datetime'] >= '2022-04-01']['Industry Size'].reset_index(drop=True), label='Predicted',)\n",
    "\n",
    "\n",
    "\n",
    "\n",
    "plt.legend()\n",
    "plt.show();"
   ]
  },
  {
   "cell_type": "code",
   "execution_count": 48,
   "metadata": {},
   "outputs": [],
   "source": [
    "newlist = list(industry_data_encoded[industry_data_encoded['Datetime']<set_dt]['Industry Size'])+y_pred_r\n",
    "industry_data_encoded['Industry Size'] = newlist"
   ]
  },
  {
   "cell_type": "code",
   "execution_count": 16,
   "metadata": {},
   "outputs": [
    {
     "data": {
      "image/png": "[encoded data removed]",
      "text/plain": [
       "<Figure size 1440x288 with 1 Axes>"
      ]
     },
     "metadata": {
      "needs_background": "light"
     },
     "output_type": "display_data"
    }
   ],
   "source": [
    "plt.figure(figsize=(20, 4))\n",
    "\n",
    "plt.plot(industry_data_encoded[industry_data_encoded['Datetime'] >= set_dt]['Industry Size'].reset_index(drop=True), label='Actual',)\n",
    "plt.plot(y_pred_r, label='Predicted')\n",
    "\n",
    "\n",
    "\n",
    "plt.legend()\n",
    "plt.show();"
   ]
  },
  {
   "cell_type": "code",
   "execution_count": null,
   "metadata": {},
   "outputs": [],
   "source": [
    "result = pd.DataFrame([])\n",
    "result['predicted'] = y_pred_r\n",
    "#***\n",
    "#result.to_csv(\"1108순차.csv\",index=False)"
   ]
  }
 ],
 "metadata": {
  "kernelspec": {
   "display_name": "mj",
   "language": "python",
   "name": "py38mj"
  },
  "language_info": {
   "codemirror_mode": {
    "name": "ipython",
    "version": 3
   },
   "file_extension": ".py",
   "mimetype": "text/x-python",
   "name": "python",
   "nbconvert_exporter": "python",
   "pygments_lexer": "ipython3",
   "version": "3.8.12"
  },
  "orig_nbformat": 4,
  "vscode": {
   "interpreter": {
    "hash": "beb60ce440686e9521c933e15e80d2dc682d823aa040f9c343cc6f5ccd198a32"
   }
  }
 },
 "nbformat": 4,
 "nbformat_minor": 2
}
