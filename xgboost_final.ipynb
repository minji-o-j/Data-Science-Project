{
 "cells": [
  {
   "attachments": {},
   "cell_type": "markdown",
   "metadata": {},
   "source": [
    "## 0. Import libraries"
   ]
  },
  {
   "cell_type": "code",
   "execution_count": 1,
   "metadata": {},
   "outputs": [
    {
     "name": "stderr",
     "output_type": "stream",
     "text": [
      "/home/ubuntu/anaconda3/envs/py38mj/lib/python3.8/site-packages/xgboost/compat.py:36: FutureWarning: pandas.Int64Index is deprecated and will be removed from pandas in a future version. Use pandas.Index with the appropriate dtype instead.\n",
      "  from pandas import MultiIndex, Int64Index\n"
     ]
    }
   ],
   "source": [
    "import pickle\n",
    "import warnings\n",
    "import numpy as np\n",
    "import pandas as pd\n",
    "import seaborn as sns\n",
    "import matplotlib.pyplot as plt\n",
    "\n",
    "from xgboost import XGBRegressor\n",
    "from sklearn.metrics import mean_absolute_error as mae\n",
    "from sklearn.metrics import mean_squared_error as mse\n",
    "from sklearn.pipeline import make_pipeline\n",
    "from sklearn.preprocessing import RobustScaler\n",
    "from sklearn.impute import SimpleImputer\n",
    "from sklearn import preprocessing\n",
    "\n",
    "from tqdm import tqdm"
   ]
  },
  {
   "attachments": {},
   "cell_type": "markdown",
   "metadata": {},
   "source": [
    "---\n",
    "## 1. data preprocessing"
   ]
  },
  {
   "attachments": {},
   "cell_type": "markdown",
   "metadata": {},
   "source": [
    "### 1) open dataset"
   ]
  },
  {
   "cell_type": "code",
   "execution_count": 2,
   "metadata": {},
   "outputs": [],
   "source": [
    "file_path = \"./dataset_new/\""
   ]
  },
  {
   "cell_type": "code",
   "execution_count": 3,
   "metadata": {},
   "outputs": [],
   "source": [
    "# 원본 data 부르기\n",
    "retail_data = pd.read_csv(f\"{file_path}Retail data.csv\")\n",
    "industry_data = pd.read_csv(f\"{file_path}Industry data.csv\")\n",
    "dealer_hierarchies = pd.read_csv(f\"{file_path}Dealer_Hierarchies.csv\")"
   ]
  },
  {
   "attachments": {},
   "cell_type": "markdown",
   "metadata": {},
   "source": [
    "### 2) dataset에 행, 열 통합"
   ]
  },
  {
   "attachments": {},
   "cell_type": "markdown",
   "metadata": {},
   "source": [
    "- retail, industry data에 지역 정보를 추가한다"
   ]
  },
  {
   "cell_type": "code",
   "execution_count": 4,
   "metadata": {},
   "outputs": [
    {
     "name": "stdout",
     "output_type": "stream",
     "text": [
      "<class 'pandas.core.frame.DataFrame'>\n",
      "RangeIndex: 125226 entries, 0 to 125225\n",
      "Data columns (total 5 columns):\n",
      " #   Column        Non-Null Count   Dtype         \n",
      "---  ------        --------------   -----         \n",
      " 0   Datetime      125226 non-null  datetime64[ns]\n",
      " 1   Sales Total   125226 non-null  int64         \n",
      " 2   Store         125226 non-null  int64         \n",
      " 3   Product Type  125226 non-null  object        \n",
      " 4   Item          125226 non-null  object        \n",
      "dtypes: datetime64[ns](1), int64(2), object(2)\n",
      "memory usage: 4.8+ MB\n",
      "<class 'pandas.core.frame.DataFrame'>\n",
      "RangeIndex: 352894 entries, 0 to 352893\n",
      "Data columns (total 5 columns):\n",
      " #   Column         Non-Null Count   Dtype         \n",
      "---  ------         --------------   -----         \n",
      " 0   Datetime       352894 non-null  datetime64[ns]\n",
      " 1   Industry Size  352894 non-null  int64         \n",
      " 2   Store          352894 non-null  int64         \n",
      " 3   Product Type   352894 non-null  object        \n",
      " 4   Item           352894 non-null  object        \n",
      "dtypes: datetime64[ns](1), int64(2), object(2)\n",
      "memory usage: 13.5+ MB\n"
     ]
    }
   ],
   "source": [
    "# Month가 datetime 형식으로 되어있는데, 이를 필요한 데이터만 얻기 위하여 분리\n",
    "# datetime 형변환\n",
    "retail_data[\"Month\"] = pd.to_datetime(retail_data[\"Month\"], format=\"%Y-%m-%d %H:%M:%S\")\n",
    "industry_data[\"Month\"] = pd.to_datetime(industry_data[\"Month\"], format=\"%Y-%m-%d %H:%M:%S\")\n",
    "\n",
    "# 열 이름 변경\n",
    "retail_data.rename(columns={\"Month\": \"Datetime\"}, inplace=True)\n",
    "retail_data.info()\n",
    "\n",
    "industry_data.rename(columns={\"Month\": \"Datetime\"}, inplace=True)\n",
    "industry_data.info()"
   ]
  },
  {
   "cell_type": "code",
   "execution_count": 5,
   "metadata": {},
   "outputs": [],
   "source": [
    "retail_data[\"Year\"] = retail_data[\"Datetime\"].dt.year\n",
    "retail_data[\"Month\"] = retail_data[\"Datetime\"].dt.month\n",
    "retail_data[\"Day\"] = retail_data[\"Datetime\"].dt.day\n",
    "retail_data[\"Time\"] = retail_data[\"Datetime\"].dt.time\n",
    "\n",
    "industry_data[\"Year\"] = industry_data[\"Datetime\"].dt.year\n",
    "industry_data[\"Month\"] = industry_data[\"Datetime\"].dt.month\n",
    "industry_data[\"Day\"] = industry_data[\"Datetime\"].dt.day\n",
    "industry_data[\"Time\"] = industry_data[\"Datetime\"].dt.time"
   ]
  },
  {
   "attachments": {},
   "cell_type": "markdown",
   "metadata": {},
   "source": [
    "- day와 time은 필요 없는 값 (1일과 0시만 존재)\n",
    "- Year, month만 선택해서 datetime을 만들 때 기본 1일 0시로 들어가게 된다"
   ]
  },
  {
   "cell_type": "code",
   "execution_count": 6,
   "metadata": {},
   "outputs": [],
   "source": [
    "# column 선택\n",
    "retail_data = retail_data[[\"Sales Total\", \"Store\", \"Product Type\", \"Item\", \"Year\", \"Month\", \"Datetime\"]]\n",
    "industry_data = industry_data[[\"Industry Size\", \"Store\", \"Product Type\", \"Item\", \"Year\", \"Month\", \"Datetime\"]]"
   ]
  },
  {
   "attachments": {},
   "cell_type": "markdown",
   "metadata": {},
   "source": [
    "- Store 정보를 추가한다"
   ]
  },
  {
   "cell_type": "code",
   "execution_count": 7,
   "metadata": {},
   "outputs": [
    {
     "name": "stderr",
     "output_type": "stream",
     "text": [
      "100%|██████████| 125226/125226 [00:50<00:00, 2498.52it/s]\n"
     ]
    }
   ],
   "source": [
    "# retail\n",
    "region_lv1 = []\n",
    "region_lv2 = []\n",
    "urban_rural = []\n",
    "\n",
    "for i in tqdm(range(len(retail_data))):\n",
    "    store_num = retail_data.loc[i][\"Store\"]\n",
    "    idx = store_num - 1\n",
    "    region_lv1.append(dealer_hierarchies.loc[idx][\"Region Level 1\"])\n",
    "    region_lv2.append(dealer_hierarchies.loc[idx][\"Region Level 2\"])\n",
    "    urban_rural.append(dealer_hierarchies.loc[idx][\"Urban/Rural\"])\n",
    "\n",
    "retail_data[\"Region Level 1\"] = region_lv1\n",
    "retail_data[\"Region Level 2\"] = region_lv2\n",
    "retail_data[\"Urban/Rural\"] = urban_rural"
   ]
  },
  {
   "cell_type": "code",
   "execution_count": 8,
   "metadata": {},
   "outputs": [
    {
     "name": "stderr",
     "output_type": "stream",
     "text": [
      "100%|██████████| 352894/352894 [02:24<00:00, 2449.65it/s]\n"
     ]
    }
   ],
   "source": [
    "# industry\n",
    "region_lv1 = []\n",
    "region_lv2 = []\n",
    "urban_rural = []\n",
    "\n",
    "for i in tqdm(range(len(industry_data))):\n",
    "    store_num = industry_data.loc[i][\"Store\"]\n",
    "    idx = store_num - 1\n",
    "    region_lv1.append(dealer_hierarchies.loc[idx][\"Region Level 1\"])\n",
    "    region_lv2.append(dealer_hierarchies.loc[idx][\"Region Level 2\"])\n",
    "    urban_rural.append(dealer_hierarchies.loc[idx][\"Urban/Rural\"])\n",
    "\n",
    "industry_data[\"Region Level 1\"] = region_lv1\n",
    "industry_data[\"Region Level 2\"] = region_lv2\n",
    "industry_data[\"Urban/Rural\"] = urban_rural"
   ]
  },
  {
   "attachments": {},
   "cell_type": "markdown",
   "metadata": {},
   "source": [
    "- 1-2)에 대한 중간저장과 불러오기를 진행"
   ]
  },
  {
   "cell_type": "code",
   "execution_count": 9,
   "metadata": {},
   "outputs": [],
   "source": [
    "retail_data.to_csv(f\"{file_path}Retail_data_add_region.csv\", index=False)\n",
    "industry_data.to_csv(f\"{file_path}Industry_data_add_region.csv\", index=False)\n",
    "\n",
    "retail_data_ar = pd.read_csv(f\"{file_path}Retail_data_add_region.csv\")\n",
    "industry_data_ar = pd.read_csv(f\"{file_path}Industry_data_add_region.csv\")"
   ]
  },
  {
   "attachments": {},
   "cell_type": "markdown",
   "metadata": {},
   "source": [
    "### 3) 이상치 제거"
   ]
  },
  {
   "attachments": {},
   "cell_type": "markdown",
   "metadata": {},
   "source": [
    "- 이상치 (industry < retail)의 경우 모두 0으로 변경한다\n",
    "- 큰 값으로 맞춰주는 것보다 0으로 변경하는 것의 예측 결과가 더 좋았음"
   ]
  },
  {
   "attachments": {},
   "cell_type": "markdown",
   "metadata": {},
   "source": [
    "- industry data > retail data 를 확인하기 위해서 store-item-Datetime 열을 생성한다"
   ]
  },
  {
   "cell_type": "code",
   "execution_count": 10,
   "metadata": {},
   "outputs": [
    {
     "name": "stderr",
     "output_type": "stream",
     "text": [
      "100%|██████████| 125226/125226 [00:48<00:00, 2590.40it/s]\n"
     ]
    }
   ],
   "source": [
    "retail_si = []\n",
    "for i in tqdm(range(len(retail_data_ar))):\n",
    "    store = retail_data_ar.loc[i][\"Store\"]\n",
    "    item = retail_data_ar.loc[i][\"Item\"]\n",
    "    year = retail_data_ar.loc[i][\"Year\"]\n",
    "    month = retail_data_ar.loc[i][\"Month\"]\n",
    "    retail_si.append(f\"{store}-{item}-{year}-{month}\")"
   ]
  },
  {
   "cell_type": "code",
   "execution_count": 11,
   "metadata": {},
   "outputs": [],
   "source": [
    "retail_data_ar[\"StoreItem\"] = retail_si"
   ]
  },
  {
   "cell_type": "code",
   "execution_count": 12,
   "metadata": {},
   "outputs": [
    {
     "name": "stderr",
     "output_type": "stream",
     "text": [
      "100%|██████████| 352894/352894 [02:16<00:00, 2587.15it/s]\n"
     ]
    }
   ],
   "source": [
    "industry_si = []\n",
    "for i in tqdm(range(len(industry_data_ar))):\n",
    "    store = industry_data_ar.loc[i][\"Store\"]\n",
    "    item = industry_data_ar.loc[i][\"Item\"]\n",
    "    year = industry_data_ar.loc[i][\"Year\"]\n",
    "    month = industry_data_ar.loc[i][\"Month\"]\n",
    "    industry_si.append(f\"{store}-{item}-{year}-{month}\")"
   ]
  },
  {
   "cell_type": "code",
   "execution_count": 13,
   "metadata": {},
   "outputs": [],
   "source": [
    "industry_data_ar[\"StoreItem\"] = industry_si"
   ]
  },
  {
   "attachments": {},
   "cell_type": "markdown",
   "metadata": {},
   "source": [
    "- 잘못된 인덱스 저장, 삭제"
   ]
  },
  {
   "cell_type": "code",
   "execution_count": 14,
   "metadata": {},
   "outputs": [],
   "source": [
    "retail_err_idx = []\n",
    "industry_err_idx = []"
   ]
  },
  {
   "cell_type": "code",
   "execution_count": 15,
   "metadata": {},
   "outputs": [
    {
     "name": "stderr",
     "output_type": "stream",
     "text": [
      "100%|██████████| 125226/125226 [47:31<00:00, 43.91it/s]\n"
     ]
    }
   ],
   "source": [
    "for i in tqdm(range(len(retail_data_ar))):\n",
    "    storeitem = retail_data_ar.loc[i][\"StoreItem\"]\n",
    "    same_item_df = industry_data_ar[industry_data_ar[\"StoreItem\"] == storeitem]\n",
    "    if len(same_item_df) == 0:\n",
    "        retail_err_idx.append(i)\n",
    "        continue\n",
    "\n",
    "    if same_item_df.iloc[0][\"Industry Size\"] < retail_data_ar.loc[i][\"Sales Total\"]:  # Sales total이 더 크면 error\n",
    "        retail_err_idx.append(i)\n",
    "        industry_err_idx.append(same_item_df.index[0])"
   ]
  },
  {
   "cell_type": "code",
   "execution_count": 16,
   "metadata": {},
   "outputs": [
    {
     "name": "stdout",
     "output_type": "stream",
     "text": [
      "23401\n",
      "4205\n"
     ]
    }
   ],
   "source": [
    "print(len(retail_err_idx))\n",
    "print(len(industry_err_idx))"
   ]
  },
  {
   "attachments": {},
   "cell_type": "markdown",
   "metadata": {},
   "source": [
    "- 잘못된 인덱스 파일 pkl로 저장"
   ]
  },
  {
   "cell_type": "code",
   "execution_count": 17,
   "metadata": {},
   "outputs": [],
   "source": [
    "with open(\"retail_err_idx.pkl\", \"wb\") as f:\n",
    "    pickle.dump(retail_err_idx, f)\n",
    "with open(\"industry_err_idx.pkl\", \"wb\") as f:\n",
    "    pickle.dump(industry_err_idx, f)\n",
    "\n",
    "with open(\"retail_err_idx.pkl\", \"rb\") as f:\n",
    "    retail_err_idx = pickle.load(f)\n",
    "with open(\"industry_err_idx.pkl\", \"rb\") as f:\n",
    "    industry_err_idx = pickle.load(f)"
   ]
  },
  {
   "attachments": {},
   "cell_type": "markdown",
   "metadata": {},
   "source": [
    "- label 을 없앤다"
   ]
  },
  {
   "cell_type": "code",
   "execution_count": 18,
   "metadata": {},
   "outputs": [],
   "source": [
    "retail_data_ar_delidx = retail_data_ar.drop(retail_err_idx).reset_index(drop=True)\n",
    "industry_data_ar_delidx = industry_data_ar.drop(industry_err_idx).reset_index(drop=True)\n",
    "\n",
    "retail_data_ar_delidx[\"Store\"] = retail_data_ar_delidx[\"Store\"].astype(str)\n",
    "industry_data_ar_delidx[\"Store\"] = industry_data_ar_delidx[\"Store\"].astype(str)"
   ]
  },
  {
   "cell_type": "code",
   "execution_count": 19,
   "metadata": {},
   "outputs": [],
   "source": [
    "retail_data_ar_delidx = retail_data_ar_delidx[\n",
    "    [\"Sales Total\", \"Store\", \"Product Type\", \"Item\", \"Year\", \"Month\", \"Datetime\", \"Region Level 1\", \"Region Level 2\", \"Urban/Rural\"]\n",
    "]\n",
    "industry_data_ar_delidx = industry_data_ar_delidx[\n",
    "    [\"Industry Size\", \"Store\", \"Product Type\", \"Item\", \"Year\", \"Month\", \"Datetime\", \"Region Level 1\", \"Region Level 2\", \"Urban/Rural\"]\n",
    "]"
   ]
  },
  {
   "cell_type": "code",
   "execution_count": 20,
   "metadata": {},
   "outputs": [
    {
     "data": {
      "text/html": [
       "<div>\n",
       "<style scoped>\n",
       "    .dataframe tbody tr th:only-of-type {\n",
       "        vertical-align: middle;\n",
       "    }\n",
       "\n",
       "    .dataframe tbody tr th {\n",
       "        vertical-align: top;\n",
       "    }\n",
       "\n",
       "    .dataframe thead th {\n",
       "        text-align: right;\n",
       "    }\n",
       "</style>\n",
       "<table border=\"1\" class=\"dataframe\">\n",
       "  <thead>\n",
       "    <tr style=\"text-align: right;\">\n",
       "      <th></th>\n",
       "      <th>Sales Total</th>\n",
       "      <th>Store</th>\n",
       "      <th>Product Type</th>\n",
       "      <th>Item</th>\n",
       "      <th>Year</th>\n",
       "      <th>Month</th>\n",
       "      <th>Datetime</th>\n",
       "      <th>Region Level 1</th>\n",
       "      <th>Region Level 2</th>\n",
       "      <th>Urban/Rural</th>\n",
       "    </tr>\n",
       "  </thead>\n",
       "  <tbody>\n",
       "    <tr>\n",
       "      <th>0</th>\n",
       "      <td>1</td>\n",
       "      <td>1</td>\n",
       "      <td>Electronics</td>\n",
       "      <td>Phone Charger</td>\n",
       "      <td>2021</td>\n",
       "      <td>2</td>\n",
       "      <td>2021-02-01</td>\n",
       "      <td>Eisenstadt-Umgebung</td>\n",
       "      <td>GWR</td>\n",
       "      <td>Urban</td>\n",
       "    </tr>\n",
       "    <tr>\n",
       "      <th>1</th>\n",
       "      <td>5</td>\n",
       "      <td>1</td>\n",
       "      <td>Grocery</td>\n",
       "      <td>Shrimp</td>\n",
       "      <td>2021</td>\n",
       "      <td>2</td>\n",
       "      <td>2021-02-01</td>\n",
       "      <td>Eisenstadt-Umgebung</td>\n",
       "      <td>GWR</td>\n",
       "      <td>Urban</td>\n",
       "    </tr>\n",
       "    <tr>\n",
       "      <th>2</th>\n",
       "      <td>2</td>\n",
       "      <td>1</td>\n",
       "      <td>Grocery</td>\n",
       "      <td>Noodles</td>\n",
       "      <td>2021</td>\n",
       "      <td>2</td>\n",
       "      <td>2021-02-01</td>\n",
       "      <td>Eisenstadt-Umgebung</td>\n",
       "      <td>GWR</td>\n",
       "      <td>Urban</td>\n",
       "    </tr>\n",
       "  </tbody>\n",
       "</table>\n",
       "</div>"
      ],
      "text/plain": [
       "   Sales Total Store Product Type           Item  Year  Month    Datetime  \\\n",
       "0            1     1  Electronics  Phone Charger  2021      2  2021-02-01   \n",
       "1            5     1      Grocery         Shrimp  2021      2  2021-02-01   \n",
       "2            2     1      Grocery        Noodles  2021      2  2021-02-01   \n",
       "\n",
       "        Region Level 1 Region Level 2 Urban/Rural  \n",
       "0  Eisenstadt-Umgebung            GWR       Urban  \n",
       "1  Eisenstadt-Umgebung            GWR       Urban  \n",
       "2  Eisenstadt-Umgebung            GWR       Urban  "
      ]
     },
     "execution_count": 20,
     "metadata": {},
     "output_type": "execute_result"
    }
   ],
   "source": [
    "retail_data_ar_delidx.head(3)"
   ]
  },
  {
   "attachments": {},
   "cell_type": "markdown",
   "metadata": {},
   "source": [
    "- owner 정보 추가"
   ]
  },
  {
   "cell_type": "code",
   "execution_count": 21,
   "metadata": {},
   "outputs": [
    {
     "name": "stderr",
     "output_type": "stream",
     "text": [
      "100%|██████████| 101825/101825 [00:19<00:00, 5275.53it/s]\n",
      "100%|██████████| 348689/348689 [01:06<00:00, 5275.45it/s]\n"
     ]
    }
   ],
   "source": [
    "retail_owner = []\n",
    "industry_owner = []\n",
    "\n",
    "for i in tqdm(range(len(retail_data_ar_delidx))):\n",
    "    store = int(retail_data_ar_delidx.loc[i][\"Store\"])\n",
    "    owner = dealer_hierarchies.loc[store - 1][\"Store Owner\"]\n",
    "    retail_owner.append(owner)\n",
    "\n",
    "for i in tqdm(range(len(industry_data_ar_delidx))):\n",
    "    store = int(industry_data_ar_delidx.loc[i][\"Store\"])\n",
    "    owner = dealer_hierarchies.loc[store - 1][\"Store Owner\"]\n",
    "    industry_owner.append(owner)"
   ]
  },
  {
   "cell_type": "code",
   "execution_count": 22,
   "metadata": {},
   "outputs": [],
   "source": [
    "retail_data_ar_delidx[\"Owner\"] = retail_owner\n",
    "industry_data_ar_delidx[\"Owner\"] = industry_owner"
   ]
  },
  {
   "attachments": {},
   "cell_type": "markdown",
   "metadata": {},
   "source": [
    "- 1-3)에 대한 중간저장과 불러오기를 진행"
   ]
  },
  {
   "cell_type": "code",
   "execution_count": 23,
   "metadata": {},
   "outputs": [],
   "source": [
    "retail_data_ar_delidx.to_csv(f\"{file_path}retail_all.csv\", index=False)\n",
    "industry_data_ar_delidx.to_csv(f\"{file_path}industry_all.csv\", index=False)\n",
    "\n",
    "retail_data = pd.read_csv(f\"{file_path}retail_all.csv\")\n",
    "industry_data = pd.read_csv(f\"{file_path}industry_all.csv\")"
   ]
  },
  {
   "attachments": {},
   "cell_type": "markdown",
   "metadata": {},
   "source": [
    "### 4) 빈 데이터 채우기"
   ]
  },
  {
   "attachments": {},
   "cell_type": "markdown",
   "metadata": {},
   "source": [
    "- 기존 industry_data는 348689행이지만, 0인 정보들 고려 위해서 전체 행에 해당하는 열 만들어줌\n",
    "- industry_data_add0: 1,005,372행 가진 data"
   ]
  },
  {
   "cell_type": "code",
   "execution_count": 24,
   "metadata": {},
   "outputs": [],
   "source": [
    "datetime_list = list(dict.fromkeys(list(industry_data[\"Datetime\"])))\n",
    "store_list = [i for i in range(1, 643)]  # 1~642"
   ]
  },
  {
   "cell_type": "code",
   "execution_count": 25,
   "metadata": {},
   "outputs": [],
   "source": [
    "product_dict = {\n",
    "    \"Power Cord\": \"Electronics\",\n",
    "    \"Phone Charger\": \"Electronics\",\n",
    "    \"Ear Buds\": \"Electronics\",\n",
    "    \"Mouse\": \"Electronics\",\n",
    "    \"Keyboard\": \"Electronics\",\n",
    "    \"Milk\": \"Grocery\",\n",
    "    \"Eggs\": \"Grocery\",\n",
    "    \"Cereal\": \"Grocery\",\n",
    "    \"Shrimp\": \"Grocery\",\n",
    "    \"Noodles\": \"Grocery\",\n",
    "    \"Steak\": \"Grocery\",\n",
    "    \"King Crab\": \"Grocery\",\n",
    "    \"Tape\": \"Home Goods\",\n",
    "    \"Glue\": \"Home Goods\",\n",
    "    \"Nails\": \"Home Goods\",\n",
    "    \"Bracket\": \"Home Goods\",\n",
    "    \"Brush\": \"Home Goods\",\n",
    "    \"Paint\": \"Home Goods\",\n",
    "}"
   ]
  },
  {
   "cell_type": "code",
   "execution_count": 26,
   "metadata": {},
   "outputs": [],
   "source": [
    "# 추가할 dataframe\n",
    "new_df = pd.DataFrame(\n",
    "    [], columns=[\"Industry Size\", \"Store\", \"Product Type\", \"Item\", \"Year\", \"Month\", \"Datetime\", \"Region Level 1\", \"Region Level 2\", \"Urban/Rural\", \"Owner\"]\n",
    ")"
   ]
  },
  {
   "cell_type": "code",
   "execution_count": 27,
   "metadata": {},
   "outputs": [],
   "source": [
    "from re import S\n",
    "\n",
    "\n",
    "def append_new_sentence(new_df, product, d, s):\n",
    "    new_df.loc[len(new_df)] = [\n",
    "        0,  # industry size\n",
    "        s,  # store\n",
    "        product_dict[product],  # item\n",
    "        product,  # product type\n",
    "        int(d[:4]),  # year\n",
    "        int(d[5:7]),  # month\n",
    "        d,  # datetime\n",
    "        dealer_hierarchies.loc[s - 1][\"Region Level 1\"],\n",
    "        dealer_hierarchies.loc[s - 1][\"Region Level 2\"],\n",
    "        dealer_hierarchies.loc[s - 1][\"Urban/Rural\"],\n",
    "        dealer_hierarchies.loc[s - 1][\"Store Owner\"],\n",
    "    ]"
   ]
  },
  {
   "cell_type": "code",
   "execution_count": 28,
   "metadata": {},
   "outputs": [
    {
     "name": "stderr",
     "output_type": "stream",
     "text": [
      "100%|██████████| 87/87 [10:48:47<00:00, 447.45s/it] \n"
     ]
    }
   ],
   "source": [
    "# 재고 0인 행 목록에 추가\n",
    "for d in tqdm(datetime_list):\n",
    "    for product in list(product_dict.keys()):  # key\n",
    "        for s in store_list:\n",
    "            datetime_df = industry_data[(industry_data[\"Datetime\"] == d) & (industry_data[\"Store\"] == s)]  # 해당 datetime의 df\n",
    "            if len(datetime_df[datetime_df[\"Item\"] == product]) == 0:\n",
    "                append_new_sentence(new_df, product, d, s)"
   ]
  },
  {
   "cell_type": "code",
   "execution_count": 29,
   "metadata": {},
   "outputs": [
    {
     "name": "stderr",
     "output_type": "stream",
     "text": [
      "/tmp/ipykernel_3136/2060285436.py:2: FutureWarning: The frame.append method is deprecated and will be removed from pandas in a future version. Use pandas.concat instead.\n",
      "  industry_data_1_add0 = industry_data.append(new_df, ignore_index=True)\n"
     ]
    }
   ],
   "source": [
    "# 추가\n",
    "industry_data_1_add0 = industry_data.append(new_df, ignore_index=True)\n",
    "\n",
    "# 정렬\n",
    "industry_data_1_add0.sort_values([\"Datetime\", \"Item\", \"Store\"], inplace=True)\n",
    "industry_data_1_add0.reset_index(drop=True, inplace=True)"
   ]
  },
  {
   "attachments": {},
   "cell_type": "markdown",
   "metadata": {},
   "source": [
    "- 1-4)에 대한 중간저장과 불러오기를 진행"
   ]
  },
  {
   "cell_type": "code",
   "execution_count": 30,
   "metadata": {},
   "outputs": [],
   "source": [
    "industry_data_1_add0.to_csv(f\"{file_path}industry_data_add0.csv\", index=False)\n",
    "industry_data_1_add0 = pd.read_csv(f\"{file_path}industry_data_add0.csv\")"
   ]
  },
  {
   "attachments": {},
   "cell_type": "markdown",
   "metadata": {},
   "source": [
    "---\n",
    "## 2. Xgboost 이용한 예측 모델 생성"
   ]
  },
  {
   "attachments": {},
   "cell_type": "markdown",
   "metadata": {},
   "source": [
    "### 1) Data 준비"
   ]
  },
  {
   "attachments": {},
   "cell_type": "markdown",
   "metadata": {},
   "source": [
    "- 1에서 생성한 파일 오픈"
   ]
  },
  {
   "cell_type": "code",
   "execution_count": 31,
   "metadata": {},
   "outputs": [],
   "source": [
    "industry_data_1_add0 = pd.read_csv(f\"{file_path}industry_data_add0.csv\")"
   ]
  },
  {
   "cell_type": "code",
   "execution_count": 32,
   "metadata": {},
   "outputs": [
    {
     "data": {
      "text/html": [
       "<div>\n",
       "<style scoped>\n",
       "    .dataframe tbody tr th:only-of-type {\n",
       "        vertical-align: middle;\n",
       "    }\n",
       "\n",
       "    .dataframe tbody tr th {\n",
       "        vertical-align: top;\n",
       "    }\n",
       "\n",
       "    .dataframe thead th {\n",
       "        text-align: right;\n",
       "    }\n",
       "</style>\n",
       "<table border=\"1\" class=\"dataframe\">\n",
       "  <thead>\n",
       "    <tr style=\"text-align: right;\">\n",
       "      <th></th>\n",
       "      <th>Industry Size</th>\n",
       "      <th>Store</th>\n",
       "      <th>Product Type</th>\n",
       "      <th>Item</th>\n",
       "      <th>Year</th>\n",
       "      <th>Month</th>\n",
       "      <th>Datetime</th>\n",
       "      <th>Region Level 1</th>\n",
       "      <th>Region Level 2</th>\n",
       "      <th>Urban/Rural</th>\n",
       "      <th>Owner</th>\n",
       "    </tr>\n",
       "  </thead>\n",
       "  <tbody>\n",
       "    <tr>\n",
       "      <th>0</th>\n",
       "      <td>0</td>\n",
       "      <td>1</td>\n",
       "      <td>Home Goods</td>\n",
       "      <td>Bracket</td>\n",
       "      <td>2015</td>\n",
       "      <td>1</td>\n",
       "      <td>2015-01-01</td>\n",
       "      <td>Eisenstadt-Umgebung</td>\n",
       "      <td>GWR</td>\n",
       "      <td>Urban</td>\n",
       "      <td>1</td>\n",
       "    </tr>\n",
       "    <tr>\n",
       "      <th>1</th>\n",
       "      <td>0</td>\n",
       "      <td>2</td>\n",
       "      <td>Home Goods</td>\n",
       "      <td>Bracket</td>\n",
       "      <td>2015</td>\n",
       "      <td>1</td>\n",
       "      <td>2015-01-01</td>\n",
       "      <td>Politischer Bezirk Güssing</td>\n",
       "      <td>GWR</td>\n",
       "      <td>Urban</td>\n",
       "      <td>1</td>\n",
       "    </tr>\n",
       "    <tr>\n",
       "      <th>2</th>\n",
       "      <td>1</td>\n",
       "      <td>3</td>\n",
       "      <td>Home Goods</td>\n",
       "      <td>Bracket</td>\n",
       "      <td>2015</td>\n",
       "      <td>1</td>\n",
       "      <td>2015-01-01</td>\n",
       "      <td>Politischer Bezirk Jennersdorf</td>\n",
       "      <td>GWR</td>\n",
       "      <td>Urban</td>\n",
       "      <td>1</td>\n",
       "    </tr>\n",
       "    <tr>\n",
       "      <th>3</th>\n",
       "      <td>0</td>\n",
       "      <td>4</td>\n",
       "      <td>Home Goods</td>\n",
       "      <td>Bracket</td>\n",
       "      <td>2015</td>\n",
       "      <td>1</td>\n",
       "      <td>2015-01-01</td>\n",
       "      <td>Politischer Bezirk Jennersdorf</td>\n",
       "      <td>GWR</td>\n",
       "      <td>Urban</td>\n",
       "      <td>1</td>\n",
       "    </tr>\n",
       "    <tr>\n",
       "      <th>4</th>\n",
       "      <td>0</td>\n",
       "      <td>5</td>\n",
       "      <td>Home Goods</td>\n",
       "      <td>Bracket</td>\n",
       "      <td>2015</td>\n",
       "      <td>1</td>\n",
       "      <td>2015-01-01</td>\n",
       "      <td>Politischer Bezirk Oberpullendorf</td>\n",
       "      <td>GWR</td>\n",
       "      <td>Urban</td>\n",
       "      <td>1</td>\n",
       "    </tr>\n",
       "    <tr>\n",
       "      <th>...</th>\n",
       "      <td>...</td>\n",
       "      <td>...</td>\n",
       "      <td>...</td>\n",
       "      <td>...</td>\n",
       "      <td>...</td>\n",
       "      <td>...</td>\n",
       "      <td>...</td>\n",
       "      <td>...</td>\n",
       "      <td>...</td>\n",
       "      <td>...</td>\n",
       "      <td>...</td>\n",
       "    </tr>\n",
       "    <tr>\n",
       "      <th>1005367</th>\n",
       "      <td>0</td>\n",
       "      <td>638</td>\n",
       "      <td>Home Goods</td>\n",
       "      <td>Tape</td>\n",
       "      <td>2022</td>\n",
       "      <td>3</td>\n",
       "      <td>2022-03-01</td>\n",
       "      <td>Graz Stadt</td>\n",
       "      <td>MMJ</td>\n",
       "      <td>Rural</td>\n",
       "      <td>132</td>\n",
       "    </tr>\n",
       "    <tr>\n",
       "      <th>1005368</th>\n",
       "      <td>0</td>\n",
       "      <td>639</td>\n",
       "      <td>Home Goods</td>\n",
       "      <td>Tape</td>\n",
       "      <td>2022</td>\n",
       "      <td>3</td>\n",
       "      <td>2022-03-01</td>\n",
       "      <td>Politischer Bezirk Eferding</td>\n",
       "      <td>ICA</td>\n",
       "      <td>Rural</td>\n",
       "      <td>300</td>\n",
       "    </tr>\n",
       "    <tr>\n",
       "      <th>1005369</th>\n",
       "      <td>0</td>\n",
       "      <td>640</td>\n",
       "      <td>Home Goods</td>\n",
       "      <td>Tape</td>\n",
       "      <td>2022</td>\n",
       "      <td>3</td>\n",
       "      <td>2022-03-01</td>\n",
       "      <td>Benešov</td>\n",
       "      <td>UQM</td>\n",
       "      <td>Rural</td>\n",
       "      <td>301</td>\n",
       "    </tr>\n",
       "    <tr>\n",
       "      <th>1005370</th>\n",
       "      <td>0</td>\n",
       "      <td>641</td>\n",
       "      <td>Home Goods</td>\n",
       "      <td>Tape</td>\n",
       "      <td>2022</td>\n",
       "      <td>3</td>\n",
       "      <td>2022-03-01</td>\n",
       "      <td>Nivala-Haapajärvi</td>\n",
       "      <td>IRA</td>\n",
       "      <td>Urban</td>\n",
       "      <td>4</td>\n",
       "    </tr>\n",
       "    <tr>\n",
       "      <th>1005371</th>\n",
       "      <td>0</td>\n",
       "      <td>642</td>\n",
       "      <td>Home Goods</td>\n",
       "      <td>Tape</td>\n",
       "      <td>2022</td>\n",
       "      <td>3</td>\n",
       "      <td>2022-03-01</td>\n",
       "      <td>Koillismaa</td>\n",
       "      <td>KTR</td>\n",
       "      <td>Urban</td>\n",
       "      <td>74</td>\n",
       "    </tr>\n",
       "  </tbody>\n",
       "</table>\n",
       "<p>1005372 rows × 11 columns</p>\n",
       "</div>"
      ],
      "text/plain": [
       "         Industry Size  Store Product Type     Item  Year  Month    Datetime  \\\n",
       "0                    0      1   Home Goods  Bracket  2015      1  2015-01-01   \n",
       "1                    0      2   Home Goods  Bracket  2015      1  2015-01-01   \n",
       "2                    1      3   Home Goods  Bracket  2015      1  2015-01-01   \n",
       "3                    0      4   Home Goods  Bracket  2015      1  2015-01-01   \n",
       "4                    0      5   Home Goods  Bracket  2015      1  2015-01-01   \n",
       "...                ...    ...          ...      ...   ...    ...         ...   \n",
       "1005367              0    638   Home Goods     Tape  2022      3  2022-03-01   \n",
       "1005368              0    639   Home Goods     Tape  2022      3  2022-03-01   \n",
       "1005369              0    640   Home Goods     Tape  2022      3  2022-03-01   \n",
       "1005370              0    641   Home Goods     Tape  2022      3  2022-03-01   \n",
       "1005371              0    642   Home Goods     Tape  2022      3  2022-03-01   \n",
       "\n",
       "                            Region Level 1 Region Level 2 Urban/Rural  Owner  \n",
       "0                      Eisenstadt-Umgebung            GWR       Urban      1  \n",
       "1               Politischer Bezirk Güssing            GWR       Urban      1  \n",
       "2           Politischer Bezirk Jennersdorf            GWR       Urban      1  \n",
       "3           Politischer Bezirk Jennersdorf            GWR       Urban      1  \n",
       "4        Politischer Bezirk Oberpullendorf            GWR       Urban      1  \n",
       "...                                    ...            ...         ...    ...  \n",
       "1005367                         Graz Stadt            MMJ       Rural    132  \n",
       "1005368        Politischer Bezirk Eferding            ICA       Rural    300  \n",
       "1005369                            Benešov            UQM       Rural    301  \n",
       "1005370                  Nivala-Haapajärvi            IRA       Urban      4  \n",
       "1005371                         Koillismaa            KTR       Urban     74  \n",
       "\n",
       "[1005372 rows x 11 columns]"
      ]
     },
     "execution_count": 32,
     "metadata": {},
     "output_type": "execute_result"
    }
   ],
   "source": [
    "industry_data_1_add0"
   ]
  },
  {
   "attachments": {},
   "cell_type": "markdown",
   "metadata": {},
   "source": [
    "- 4,5,6월 예측을 위한 행 생성"
   ]
  },
  {
   "cell_type": "code",
   "execution_count": 33,
   "metadata": {},
   "outputs": [],
   "source": [
    "def add_date(date, original_df):  # date: 'YYYY-MM-DD'형태\n",
    "    data_predict = industry_data_1_add0[industry_data_1_add0[\"Datetime\"] == \"2022-03-01\"].reset_index(drop=True)\n",
    "    data_predict[\"Industry Size\"] = [0] * len(data_predict)\n",
    "    data_predict[\"Datetime\"] = [date] * len(data_predict)\n",
    "    data_predict[\"Year\"] = [date[:4]] * len(data_predict)\n",
    "    data_predict[\"Month\"] = [date[5:7]] * len(data_predict)\n",
    "\n",
    "    return pd.concat([original_df, data_predict], ignore_index=True)"
   ]
  },
  {
   "cell_type": "code",
   "execution_count": 34,
   "metadata": {},
   "outputs": [],
   "source": [
    "industry_data_1_add0 = add_date(\"2022-04-01\", industry_data_1_add0)\n",
    "industry_data_1_add0 = add_date(\"2022-05-01\", industry_data_1_add0)\n",
    "industry_data_1_add0 = add_date(\"2022-06-01\", industry_data_1_add0)"
   ]
  },
  {
   "attachments": {},
   "cell_type": "markdown",
   "metadata": {},
   "source": [
    "- 제출 형식에 맞게 정렬"
   ]
  },
  {
   "cell_type": "code",
   "execution_count": 35,
   "metadata": {},
   "outputs": [],
   "source": [
    "industry_data_1_add0.sort_values([\"Datetime\", \"Store\", \"Item\"], inplace=True)\n",
    "industry_data_1_add0.reset_index(drop=True, inplace=True)"
   ]
  },
  {
   "attachments": {},
   "cell_type": "markdown",
   "metadata": {},
   "source": [
    "- Label encoding"
   ]
  },
  {
   "cell_type": "code",
   "execution_count": 36,
   "metadata": {},
   "outputs": [],
   "source": [
    "label = preprocessing.LabelEncoder()\n",
    "industry_data_encoded = pd.DataFrame()\n",
    "\n",
    "industry_data_1_col = [\"Product Type\", \"Item\", \"Region Level 1\", \"Region Level 2\", \"Urban/Rural\"]\n",
    "for i in industry_data_1_add0.columns:\n",
    "    if i in industry_data_1_col:\n",
    "        industry_data_encoded[i] = label.fit_transform(industry_data_1_add0[i])\n",
    "    else:\n",
    "        industry_data_encoded[i] = industry_data_1_add0[i]"
   ]
  },
  {
   "attachments": {},
   "cell_type": "markdown",
   "metadata": {},
   "source": [
    "### 2) 모델 생성 및 예측"
   ]
  },
  {
   "attachments": {},
   "cell_type": "markdown",
   "metadata": {},
   "source": [
    "- 예측할 구간 선택"
   ]
  },
  {
   "cell_type": "code",
   "execution_count": 37,
   "metadata": {},
   "outputs": [],
   "source": [
    "set_dt_list = [\"2022-04-01\", \"2022-05-01\", \"2022-06-01\"]"
   ]
  },
  {
   "attachments": {},
   "cell_type": "markdown",
   "metadata": {},
   "source": [
    "- 모델 생성\n",
    "    - 2015-01-01 ~ 2022-03-01 data --> 2022-04-01 data 예측\t\n",
    "    - 2015-01-01 ~ 2022-04-01 data --> 2022-05-01 data 예측\t\n",
    "    - 2015-01-01 ~ 2022-05-01 data --> 2022-06-01 data 예측\t"
   ]
  },
  {
   "cell_type": "code",
   "execution_count": 39,
   "metadata": {},
   "outputs": [
    {
     "name": "stdout",
     "output_type": "stream",
     "text": [
      "(1005372, 7) (1005372,)\n",
      "(34668, 7) (34668,)\n",
      "mae:   1.1522441444559826\n",
      "rmse:  1.7096735745150142\n",
      "(1016928, 7) (1016928,)\n",
      "(23112, 7) (23112,)\n",
      "mae:   0.11673589477327795\n",
      "rmse:  0.341919530064906\n",
      "(1028484, 7) (1028484,)\n",
      "(11556, 7) (11556,)\n",
      "mae:   0.12287988923502942\n",
      "rmse:  0.3537369117011909\n"
     ]
    }
   ],
   "source": [
    "for set_dt in set_dt_list:\n",
    "    # train에 사용할 data와 예측할 data 분리\n",
    "    train_1 = industry_data_encoded[industry_data_encoded[\"Datetime\"] < set_dt]\n",
    "    val_1 = industry_data_encoded[(industry_data_encoded[\"Datetime\"] >= set_dt)]\n",
    "\n",
    "    # Feature와 Target 분리\n",
    "    target = \"Industry Size\"\n",
    "    features = train_1.drop([target, \"Datetime\", \"Region Level 1\", \"Region Level 2\"], axis=1).columns\n",
    "\n",
    "    X_train = train_1[features]\n",
    "    y_train = train_1[target]\n",
    "    X_val = val_1[features]\n",
    "    y_val = val_1[target]\n",
    "\n",
    "    print(X_train.shape, y_train.shape)\n",
    "    print(X_val.shape, y_val.shape)\n",
    "\n",
    "    # 파이프라인 생성 및 학습\n",
    "    xgb_basic = make_pipeline(\n",
    "        SimpleImputer(),\n",
    "        RobustScaler(),\n",
    "        XGBRegressor(\n",
    "            random_state=1,\n",
    "            n_jobs=-1,\n",
    "            objective=\"reg:squarederror\",\n",
    "            max_depth=5,\n",
    "            learning_rate=0.2,\n",
    "        ),\n",
    "    )\n",
    "\n",
    "    xgb_basic.fit(X_train, y_train)\n",
    "\n",
    "    # 예측\n",
    "    y_pred = xgb_basic.predict(X_val)\n",
    "\n",
    "    # prediction값 반올림\n",
    "    y_pred_r = [round(x) if round(x) >= 0 else 0 for x in y_pred]\n",
    "\n",
    "    # 결과 확인\n",
    "    print(\"mae:  \", mae(y_val, y_pred_r))\n",
    "    print(\"rmse: \", np.sqrt(mse(y_val, y_pred_r)))\n",
    "\n",
    "    # prediction 값 추가\n",
    "    newlist = list(industry_data_encoded[industry_data_encoded[\"Datetime\"] < set_dt][\"Industry Size\"]) + y_pred_r\n",
    "    industry_data_encoded[\"Industry Size\"] = newlist"
   ]
  },
  {
   "cell_type": "code",
   "execution_count": 40,
   "metadata": {},
   "outputs": [],
   "source": [
    "result = pd.DataFrame([])\n",
    "result[\"predicted\"] = industry_data_encoded[industry_data_encoded[\"Datetime\"] >= set_dt_list[0]][\"Industry Size\"].reset_index(drop=True)"
   ]
  },
  {
   "attachments": {},
   "cell_type": "markdown",
   "metadata": {},
   "source": [
    "- 4, 5, 6월 데이터가 한 줄로 예측되어있으므로 4+5+6월을 한 값을 저장한다"
   ]
  },
  {
   "cell_type": "code",
   "execution_count": 41,
   "metadata": {},
   "outputs": [],
   "source": [
    "sum_456 = result[:11556].copy()\n",
    "for i in range(len(sum_456)):\n",
    "    m_5 = result.loc[i + 11556][\"predicted\"]\n",
    "    m_6 = result.loc[i + 11556 + 11556][\"predicted\"]\n",
    "    sum_456.loc[i, \"predicted\"] = sum_456.loc[i, \"predicted\"] + m_5 + m_6"
   ]
  },
  {
   "cell_type": "code",
   "execution_count": 42,
   "metadata": {},
   "outputs": [
    {
     "data": {
      "text/plain": [
       "39946"
      ]
     },
     "execution_count": 42,
     "metadata": {},
     "output_type": "execute_result"
    }
   ],
   "source": [
    "# 예측된 전체 데이터 개수 확인\n",
    "sum_456[\"predicted\"].sum()"
   ]
  },
  {
   "attachments": {},
   "cell_type": "markdown",
   "metadata": {},
   "source": [
    "---\n",
    "## 3. 제출 파일 생성"
   ]
  },
  {
   "attachments": {},
   "cell_type": "markdown",
   "metadata": {},
   "source": [
    "### 1) 제출 양식 생성"
   ]
  },
  {
   "attachments": {},
   "cell_type": "markdown",
   "metadata": {},
   "source": [
    "- 제출 양식에 맞는 파일을 생성하기 위하여 `가게-아이템 목록-빈값` dataframe을 생성한다"
   ]
  },
  {
   "cell_type": "code",
   "execution_count": 43,
   "metadata": {},
   "outputs": [],
   "source": [
    "profit_per_product = pd.read_csv(f\"{file_path}Profit per Product.csv\")\n",
    "product_list = sorted(list(profit_per_product[\"Item\"])[:18])  # item:18개"
   ]
  },
  {
   "cell_type": "code",
   "execution_count": 44,
   "metadata": {},
   "outputs": [],
   "source": [
    "make_template_store = []\n",
    "make_template_item = product_list * 642\n",
    "for i in range(1, 643):\n",
    "    append_store = [i] * len(product_list)\n",
    "    make_template_store.extend(append_store)\n",
    "\n",
    "submission_template = pd.DataFrame([])\n",
    "submission_template[\"Store\"] = make_template_store\n",
    "submission_template[\"Item\"] = make_template_item\n",
    "submission_template[\"Allocation\"] = [0] * 11556"
   ]
  },
  {
   "attachments": {},
   "cell_type": "markdown",
   "metadata": {},
   "source": [
    "### 2) 5k 제출 파일 생성"
   ]
  },
  {
   "cell_type": "code",
   "execution_count": 45,
   "metadata": {},
   "outputs": [],
   "source": [
    "submission_5k = submission_template.copy()\n",
    "submission_5k[\"Allocation\"] = sum_456[\"predicted\"]"
   ]
  },
  {
   "attachments": {},
   "cell_type": "markdown",
   "metadata": {},
   "source": [
    "- 예측된 값이 39946개이므로 이를 5000개로 줄여야 한다.\n",
    "    - 가격 낮은 순 `[\"Nails\", \"Milk\", \"Tape\", \"Bracket\", \"Eggs\", \"Cereal\", \"Brush\", \"Glue\", \"Power Cord\", \"Noodles\"]`까지 모두 삭제한다.\n",
    "    - 많이 예측된 항목일 경우 실제로도 많이 할당될 가능성이 높으므로 더 작은 수로 나누어 많이 할당되게끔 한다.\n",
    "    - 최대한 5000과 비슷한 수가 나오게끔 만든다."
   ]
  },
  {
   "cell_type": "code",
   "execution_count": 46,
   "metadata": {},
   "outputs": [],
   "source": [
    "check1 = []\n",
    "divided = []\n",
    "for i in range(len(submission_5k)):\n",
    "    now_num = submission_5k.loc[i][\"Allocation\"]\n",
    "\n",
    "    # 0으로 만들 값 체크\n",
    "    zerolist = [\"Nails\", \"Milk\", \"Tape\", \"Bracket\", \"Eggs\", \"Cereal\", \"Brush\", \"Glue\", \"Power Cord\", \"Noodles\"]  # ,'Ear Buds']\n",
    "    if submission_5k.loc[i][\"Item\"] in zerolist:\n",
    "        divided.append(0)\n",
    "        continue  # 아래 실행 x\n",
    "\n",
    "    # 1보다 큰지 체크\n",
    "    if now_num >= 1:\n",
    "        check1.append(1)\n",
    "    else:\n",
    "        check1.append(0)\n",
    "\n",
    "    # 값 체크\n",
    "    if now_num > 30:\n",
    "        divided.append(round(now_num / 5))\n",
    "    elif now_num > 20:\n",
    "        divided.append(round(now_num / 6.5))\n",
    "    elif now_num > 10:\n",
    "        divided.append(round(now_num / 7.5))\n",
    "\n",
    "    elif now_num >= 1:\n",
    "        divided.append(1)\n",
    "    else:\n",
    "        divided.append(0)"
   ]
  },
  {
   "cell_type": "code",
   "execution_count": 47,
   "metadata": {},
   "outputs": [
    {
     "data": {
      "text/plain": [
       "5006"
      ]
     },
     "execution_count": 47,
     "metadata": {},
     "output_type": "execute_result"
    }
   ],
   "source": [
    "sum(divided)"
   ]
  },
  {
   "attachments": {},
   "cell_type": "markdown",
   "metadata": {},
   "source": [
    "- 위의 코드를 수행하니 5006개가 나와서, 6개를 더 줄여야 한다."
   ]
  },
  {
   "cell_type": "code",
   "execution_count": 48,
   "metadata": {},
   "outputs": [],
   "source": [
    "submission_5k[\"Allocation\"] = divided"
   ]
  },
  {
   "attachments": {},
   "cell_type": "markdown",
   "metadata": {},
   "source": [
    "- 가격 낮은 순 Nails ~ Noodles 다음으로 가격이 낮은 Ear Buds에 대해 많이 할당된 것 6개를 삭제"
   ]
  },
  {
   "cell_type": "code",
   "execution_count": 49,
   "metadata": {},
   "outputs": [
    {
     "data": {
      "text/html": [
       "<div>\n",
       "<style scoped>\n",
       "    .dataframe tbody tr th:only-of-type {\n",
       "        vertical-align: middle;\n",
       "    }\n",
       "\n",
       "    .dataframe tbody tr th {\n",
       "        vertical-align: top;\n",
       "    }\n",
       "\n",
       "    .dataframe thead th {\n",
       "        text-align: right;\n",
       "    }\n",
       "</style>\n",
       "<table border=\"1\" class=\"dataframe\">\n",
       "  <thead>\n",
       "    <tr style=\"text-align: right;\">\n",
       "      <th></th>\n",
       "      <th>Store</th>\n",
       "      <th>Item</th>\n",
       "      <th>Allocation</th>\n",
       "    </tr>\n",
       "  </thead>\n",
       "  <tbody>\n",
       "    <tr>\n",
       "      <th>1659</th>\n",
       "      <td>93</td>\n",
       "      <td>Ear Buds</td>\n",
       "      <td>7</td>\n",
       "    </tr>\n",
       "    <tr>\n",
       "      <th>10947</th>\n",
       "      <td>609</td>\n",
       "      <td>Ear Buds</td>\n",
       "      <td>7</td>\n",
       "    </tr>\n",
       "  </tbody>\n",
       "</table>\n",
       "</div>"
      ],
      "text/plain": [
       "       Store      Item  Allocation\n",
       "1659      93  Ear Buds           7\n",
       "10947    609  Ear Buds           7"
      ]
     },
     "execution_count": 49,
     "metadata": {},
     "output_type": "execute_result"
    }
   ],
   "source": [
    "submission_5k[(submission_5k[\"Item\"] == \"Ear Buds\") & (submission_5k[\"Allocation\"] > 5)]"
   ]
  },
  {
   "cell_type": "code",
   "execution_count": 50,
   "metadata": {},
   "outputs": [],
   "source": [
    "submission_5k.loc[1659, \"Allocation\"] = 4\n",
    "submission_5k.loc[10947, \"Allocation\"] = 4"
   ]
  },
  {
   "cell_type": "code",
   "execution_count": 51,
   "metadata": {},
   "outputs": [
    {
     "data": {
      "text/plain": [
       "5000"
      ]
     },
     "execution_count": 51,
     "metadata": {},
     "output_type": "execute_result"
    }
   ],
   "source": [
    "submission_5k[\"Allocation\"].sum()"
   ]
  },
  {
   "attachments": {},
   "cell_type": "markdown",
   "metadata": {},
   "source": [
    "- 5000개가 맞춰졌으므로 저장한다."
   ]
  },
  {
   "cell_type": "code",
   "execution_count": 52,
   "metadata": {},
   "outputs": [],
   "source": [
    "submission_5k.to_csv(f\"JumpingCat5k.csv\", index=False)"
   ]
  },
  {
   "attachments": {},
   "cell_type": "markdown",
   "metadata": {},
   "source": [
    "### 3) 10k 제출 파일 생성"
   ]
  },
  {
   "cell_type": "code",
   "execution_count": 53,
   "metadata": {},
   "outputs": [],
   "source": [
    "submission_10k = submission_template.copy()\n",
    "submission_10k[\"Allocation\"] = sum_456[\"predicted\"]"
   ]
  },
  {
   "attachments": {},
   "cell_type": "markdown",
   "metadata": {},
   "source": [
    "- 예측된 값이 39946개이므로 이를 5000개로 줄여야 한다.\n",
    "    - 가격 낮은 순 `[\"Nails\", \"Milk\", \"Tape\", \"Bracket\", \"Eggs\"]`까지 모두 삭제한다.\n",
    "    - 많이 예측된 항목일 경우 실제로도 많이 할당될 가능성이 높으므로 더 작은 수로 나누어 많이 할당되게끔 한다.\n",
    "    - 추후 가장 ABC score가 높은 Keyboards를 더 할당하기 위하여 Keyboard의 값을 저장해둔다.\n",
    "    - 최대한 10000과 비슷한 수가 나오게끔 만든다."
   ]
  },
  {
   "cell_type": "code",
   "execution_count": 54,
   "metadata": {},
   "outputs": [],
   "source": [
    "check1 = []\n",
    "divided = []\n",
    "keyboard = {}\n",
    "for i in range(len(submission_10k)):\n",
    "    now_num = submission_10k.loc[i][\"Allocation\"]\n",
    "\n",
    "    # 0으로 만들 값 체크\n",
    "    zerolist = [\"Nails\", \"Milk\", \"Tape\", \"Bracket\", \"Eggs\"]\n",
    "\n",
    "    if submission_10k.loc[i][\"Item\"] in zerolist:\n",
    "        divided.append(0)\n",
    "        continue  # 아래 실행 x\n",
    "\n",
    "    if submission_10k.loc[i][\"Item\"] == \"Keyboard\":\n",
    "        keyboard[i] = now_num\n",
    "\n",
    "    # 1보다 큰지 체크\n",
    "    if now_num >= 1:\n",
    "        check1.append(1)\n",
    "    else:\n",
    "        check1.append(0)\n",
    "\n",
    "    # 값 체크\n",
    "    if now_num > 30:\n",
    "        divided.append(round(now_num / 2))\n",
    "    elif now_num > 20:\n",
    "        divided.append(round(now_num / 2.3))\n",
    "    elif now_num > 10:\n",
    "        divided.append(round(now_num / 3.3))\n",
    "    elif now_num > 5:\n",
    "        divided.append(round(now_num / 4.5))\n",
    "    elif now_num >= 1:\n",
    "        divided.append(1)\n",
    "    else:\n",
    "        divided.append(0)"
   ]
  },
  {
   "cell_type": "code",
   "execution_count": 55,
   "metadata": {},
   "outputs": [
    {
     "data": {
      "text/plain": [
       "9904"
      ]
     },
     "execution_count": 55,
     "metadata": {},
     "output_type": "execute_result"
    }
   ],
   "source": [
    "sum(divided)"
   ]
  },
  {
   "attachments": {},
   "cell_type": "markdown",
   "metadata": {},
   "source": [
    "- 위의 코드를 수행하니 9904개가 나와서, 96개를 더 늘려야 한다.\n",
    "- 가장 ABC 점수가 높은 Keyboard를 더 늘릴 예정이다.\n",
    "    - 확인 결과 Keyboard가 0개 할당 된 것은 없으므로, 1개 할당된 것 중 96개 index에 대하여 1개씩 더 할당해준다."
   ]
  },
  {
   "cell_type": "code",
   "execution_count": 56,
   "metadata": {},
   "outputs": [],
   "source": [
    "submission_10k[\"Allocation\"] = divided"
   ]
  },
  {
   "cell_type": "code",
   "execution_count": 57,
   "metadata": {},
   "outputs": [
    {
     "data": {
      "text/plain": [
       "261"
      ]
     },
     "execution_count": 57,
     "metadata": {},
     "output_type": "execute_result"
    }
   ],
   "source": [
    "idxs = submission_10k[(submission_10k[\"Item\"] == \"Keyboard\") & (submission_10k[\"Allocation\"] == 1)].index\n",
    "len(idxs)"
   ]
  },
  {
   "attachments": {},
   "cell_type": "markdown",
   "metadata": {},
   "source": [
    "- Keyboard가 1개 할당된 것은 261개이므로 일부 index에 대해서만 하나씩 더 할당해준다."
   ]
  },
  {
   "cell_type": "code",
   "execution_count": 58,
   "metadata": {},
   "outputs": [],
   "source": [
    "for i in idxs[-96:]:  # 마지막부터 96개\n",
    "    submission_10k.loc[i, \"Allocation\"] = 2"
   ]
  },
  {
   "cell_type": "code",
   "execution_count": 59,
   "metadata": {},
   "outputs": [
    {
     "data": {
      "text/plain": [
       "10000"
      ]
     },
     "execution_count": 59,
     "metadata": {},
     "output_type": "execute_result"
    }
   ],
   "source": [
    "submission_10k[\"Allocation\"].sum()"
   ]
  },
  {
   "attachments": {},
   "cell_type": "markdown",
   "metadata": {},
   "source": [
    "- 10000개가 맞춰졌으므로 저장한다."
   ]
  },
  {
   "cell_type": "code",
   "execution_count": 60,
   "metadata": {},
   "outputs": [],
   "source": [
    "submission_10k.to_csv(f\"JumpingCat10k.csv\", index=False)"
   ]
  },
  {
   "cell_type": "code",
   "execution_count": null,
   "metadata": {},
   "outputs": [],
   "source": []
  }
 ],
 "metadata": {
  "kernelspec": {
   "display_name": "mj",
   "language": "python",
   "name": "py38mj"
  },
  "language_info": {
   "codemirror_mode": {
    "name": "ipython",
    "version": 3
   },
   "file_extension": ".py",
   "mimetype": "text/x-python",
   "name": "python",
   "nbconvert_exporter": "python",
   "pygments_lexer": "ipython3",
   "version": "3.8.12"
  },
  "orig_nbformat": 4,
  "vscode": {
   "interpreter": {
    "hash": "beb60ce440686e9521c933e15e80d2dc682d823aa040f9c343cc6f5ccd198a32"
   }
  }
 },
 "nbformat": 4,
 "nbformat_minor": 2
}
